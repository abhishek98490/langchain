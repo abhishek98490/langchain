{
 "cells": [
  {
   "cell_type": "code",
   "execution_count": 6,
   "metadata": {},
   "outputs": [],
   "source": [
    "import os\n",
    "from dotenv import load_dotenv\n",
    "load_dotenv()\n",
    "\n",
    "os.environ['HF_TOKEN'] = os.getenv(\"HF_TOKEN\")\n",
    "\n",
    "## Langsmith Tracking\n",
    "os.environ['LANGCHAIN_API_KEY'] = os.getenv(\"LANGCHAIN_API_KEY\")\n",
    "os.environ['LANGCHAIN_TRACING_V2'] = 'true'\n",
    "os.environ['LANGCHAIN_PROJECT'] = os.getenv(\"LANGCHAIN_PROJECT\")\n"
   ]
  },
  {
   "cell_type": "code",
   "execution_count": 7,
   "metadata": {},
   "outputs": [],
   "source": [
    "import warnings\n",
    "warnings.filterwarnings(\"ignore\")"
   ]
  },
  {
   "cell_type": "markdown",
   "metadata": {},
   "source": [
    "Load data -> Chunking(dividing in smaller text) -> Vector Embeddings -> Vector Storing -> quering -> Retrieving "
   ]
  },
  {
   "cell_type": "markdown",
   "metadata": {},
   "source": [
    "#### Data Ingestion"
   ]
  },
  {
   "cell_type": "code",
   "execution_count": 9,
   "metadata": {},
   "outputs": [],
   "source": [
    "import bs4\n",
    "from langchain_community.document_loaders import WebBaseLoader\n",
    "website_path = \"https://www.screener.in/company/HDFCBANK/consolidated/\"\n",
    "\n",
    "loader = WebBaseLoader(website_path)"
   ]
  },
  {
   "cell_type": "code",
   "execution_count": 10,
   "metadata": {},
   "outputs": [
    {
     "data": {
      "text/plain": [
       "[Document(metadata={'source': 'https://www.screener.in/company/HDFCBANK/consolidated/', 'title': 'HDFC Bank Ltd share price | About HDFC Bank | Key Insights - Screener', 'language': 'en'}, page_content=\"\\n\\n\\n\\n\\n\\nHDFC Bank Ltd share price | About HDFC Bank | Key Insights - Screener\\n\\n\\n\\n\\n\\n\\n\\n\\n\\n\\n\\n\\n\\n\\n\\n\\n\\n\\n\\n\\n\\n\\n\\n\\n\\n\\n\\n\\n\\n\\n\\n\\n\\n\\n\\n\\n      Home\\n    \\n\\n\\n\\n\\n\\n      Screens\\n    \\n\\n\\n\\n\\n\\n\\n\\n\\n\\n\\n      Tools\\n    \\n\\n\\n\\n\\n\\n      Login\\n    \\n\\n\\n\\n\\n\\n\\n\\n\\n\\n\\n\\n\\n          \\n            Home\\n          \\n        \\nScreens\\n\\n\\n            Tools\\n            \\n\\n\\n\\n\\n\\n\\n\\n\\nCreate a stock screen\\nRun queries on 10 years of financial data\\n\\n\\n\\n\\n\\n\\nPremium features\\n\\n\\n\\n\\n\\n\\n\\n\\n\\nCommodity Prices\\nSee prices and trends of over 10,000 commodities\\n\\n\\n\\n\\n\\n\\n\\n\\n\\nSearch shareholders\\nSee companies where a person holds over 1% of the shares\\n\\n\\n\\n\\n\\n\\n\\n\\n\\nLatest Announcements\\nBrowse, filter and set alerts for announcements.\\n\\n\\n\\n\\nUpgrade to premium\\n\\n\\n\\n\\n\\n\\n\\n\\n\\n\\n\\n\\n\\n\\n            Login\\n          \\nGet free account\\n\\n\\n\\n\\n\\n\\n\\n\\n\\nHDFC Bank Ltd\\n\\n\\nNotebook\\n\\n\\n\\n\\n\\nHDFC Bank\\nSummary\\n\\nChart\\nAnalysis\\nPeers\\nQuarters\\nProfit & Loss\\nBalance Sheet\\nCash Flow\\nRatios\\nInvestors\\nDocuments\\n\\n\\n\\n\\nNotebook\\n\\n\\n\\n\\n\\n\\n\\n\\n\\n\\n\\nHDFC Bank Ltd\\n\\n\\n\\n\\n\\n₹ 1,700\\n\\n\\n                0.93%\\n              \\n\\n\\n            \\n              16 Oct\\n              \\n                - close price\\n              \\n            \\n          \\n\\n\\n\\n\\n\\n\\n\\nExport to Excel\\n\\n\\n\\n Follow\\n            \\n\\n\\n\\n\\n\\n\\n\\nhdfcbank.com\\n\\n\\n\\n\\n            BSE:\\n            500180\\n          \\n\\n\\n\\n\\n            NSE:\\n            HDFCBANK\\n          \\n\\n\\n\\n\\n\\nAbout\\nHDFC Bank Limited (also known as HDFC) is an Indian banking and financial services company headquartered in Mumbai. It is India's largest private sector bank by assets and the world's tenth-largest bank by market capitalization as of May 2024.\\nAs of April 2024, HDFC Bank has a market capitalization of $145 billion, making it the third-largest company on the Indian stock exchanges. [1]\\nKey Points\\n\\nMarket Position\\nThe company is India's one of 3 systemically important banks with a 15% market share in the banking sector’s advances and a 37% market share in the private sector banks’ advances as of FY24. It is also the second-largest bank in India. [1] It is among the top 3 Government Banks collecting direct and indirect taxes for the Government of India. [2] It is a market leader in almost every asset category. [3]\\n\\n\\n\\n              Read More \\n\\n\\n\\n\\n\\nWebsite\\n\\n\\n\\nBSE\\n\\n\\n\\n\\n                NSE\\n                \\n              \\n\\n\\n\\n\\n\\n\\n\\n      \\n        Market Cap\\n      \\n    \\n\\n        ₹\\n        12,96,849\\n        \\n          Cr.\\n        \\n      \\n\\n\\n\\n      \\n        Current Price\\n      \\n    \\n\\n        ₹\\n        1,700\\n\\n\\n\\n\\n      \\n        High / Low\\n      \\n    \\n₹ 1,794 / 1,363\\n\\n\\n\\n      \\n        Stock P/E\\n      \\n    \\n\\n19.0\\n\\n\\n\\n\\n      \\n        Book Value\\n      \\n    \\n\\n        ₹\\n        601\\n\\n\\n\\n\\n      \\n        Dividend Yield\\n      \\n    \\n\\n1.15\\n        \\n          %\\n        \\n      \\n\\n\\n\\n      \\n        ROCE\\n      \\n    \\n\\n7.67\\n        \\n          %\\n        \\n      \\n\\n\\n\\n      \\n        ROE\\n      \\n    \\n\\n17.1\\n        \\n          %\\n        \\n      \\n\\n\\n\\n      \\n        Face Value\\n      \\n    \\n\\n        ₹\\n        1.00\\n\\n\\n\\n\\nAdd ratio to table\\n\\n\\n\\n\\n\\n\\nEdit ratios\\n\\n\\n\\n\\n\\n\\n\\n\\n\\n1m\\n6m\\n1Yr\\n3Yr\\n5Yr\\n10Yr\\nMax\\n\\n\\n\\nPrice\\nPE Ratio\\nHidden\\n\\n\\n          More \\n\\n\\n\\nSales & Margin\\n\\n\\nEV / EBITDA\\n\\n\\nPrice to Book\\n\\n\\nMarket Cap / Sales\\n\\n\\n\\n\\n\\n\\nAlerts\\n\\n\\n\\n\\n\\n\\n\\n\\n\\n\\n\\n\\n\\n\\n\\n\\n\\n\\n\\n\\n\\n\\n\\n\\n\\n\\n\\nPros\\n\\nCompany is expected to give good quarterCompany has delivered good profit growth of 23.4% CAGR over last 5 yearsCompany has been maintaining a healthy dividend payout of 22.9%Company's median sales growth is 16.4% of last 10 years\\n\\n\\n\\nCons\\n\\nStock is trading at 2.83 times its book valueCompany has low interest coverage ratio.Contingent liabilities of Rs.24,09,821 Cr.Earnings include an other income of Rs.1,49,943 Cr.\\n\\n\\n\\n\\n*\\nThe pros and cons are machine generated.\\n\\n\\n\\n            Pros / cons are based on a checklist to highlight important points. Please exercise caution and do your own analysis.\\n          \\n\\n\\n\\n\\n\\n\\nPeer comparison\\n\\n              Sector:\\n              Banks\\n\\n              Industry:\\n              \\n                Banks - Private Sector\\n              \\n\\n\\n\\n\\n\\nEdit\\n            Columns\\n          \\n\\n\\nLoading peers table ...\\n\\nDetailed Comparison with:\\n\\n\\n\\n\\n\\n\\n\\n\\nQuarterly Results\\n\\n      \\n        Consolidated Figures in Rs. Crores\\n        /\\n        View Standalone\\n\\n\\n\\n\\n\\n        Close Segments\\n      \\n\\n\\n          Product Segments\\n        \\n\\n\\n\\n\\n\\n\\n\\n\\nJun 2021\\nSep 2021\\nDec 2021\\nMar 2022\\nJun 2022\\nSep 2022\\nDec 2022\\nMar 2023\\nJun 2023\\nSep 2023\\nDec 2023\\nMar 2024\\nJun 2024\\n\\n\\n\\n\\n\\n            \\n              Revenue\\n            \\n          \\n32,254\\n33,520\\n34,588\\n35,574\\n37,274\\n40,930\\n45,002\\n47,548\\n51,168\\n75,039\\n78,008\\n79,434\\n81,546\\n\\n\\n\\n            \\n              Interest\\n            \\n          \\n14,218\\n14,415\\n14,724\\n15,227\\n16,358\\n18,311\\n20,505\\n22,606\\n25,955\\n41,250\\n43,242\\n43,692\\n44,580\\n\\n\\n\\n\\n                Expenses\\xa0+\\n\\n\\n14,073\\n14,698\\n14,423\\n15,044\\n15,021\\n15,915\\n16,682\\n17,770\\n18,470\\n45,349\\n50,530\\n62,938\\n49,690\\n\\n\\n\\n            \\n              Financing Profit\\n            \\n          \\n3,962\\n4,408\\n5,441\\n5,304\\n5,895\\n6,704\\n7,815\\n7,172\\n6,744\\n-11,560\\n-15,764\\n-27,196\\n-12,723\\n\\n\\n\\n            \\n              Financing Margin %\\n            \\n          \\n12%\\n13%\\n16%\\n15%\\n16%\\n16%\\n17%\\n15%\\n13%\\n-15%\\n-20%\\n-34%\\n-16%\\n\\n\\n\\n\\n                Other Income\\xa0+\\n\\n\\n6,680\\n7,916\\n8,777\\n8,386\\n6,929\\n8,252\\n9,121\\n9,610\\n9,853\\n32,528\\n37,007\\n44,958\\n35,450\\n\\n\\n\\n            \\n              Depreciation\\n            \\n          \\n0\\n0\\n0\\n0\\n0\\n0\\n0\\n0\\n0\\n0\\n0\\n0\\n0\\n\\n\\n\\n            \\n              Profit before tax\\n            \\n          \\n10,642\\n12,324\\n14,218\\n13,690\\n12,823\\n14,956\\n16,936\\n16,783\\n16,597\\n20,967\\n21,243\\n17,761\\n22,727\\n\\n\\n\\n            \\n              Tax %\\n            \\n          \\n25%\\n26%\\n25%\\n23%\\n25%\\n25%\\n25%\\n25%\\n25%\\n17%\\n17%\\n-1%\\n24%\\n\\n\\n\\n\\n                Net Profit\\xa0+\\n\\n\\n7,940\\n9,120\\n10,616\\n10,475\\n9,617\\n11,163\\n12,735\\n12,634\\n12,403\\n17,312\\n17,718\\n18,013\\n17,188\\n\\n\\n\\n            \\n              EPS in Rs\\n            \\n          \\n14.33\\n16.43\\n19.11\\n18.83\\n17.25\\n19.97\\n22.77\\n22.57\\n22.12\\n22.17\\n22.73\\n23.20\\n21.65\\n\\n\\n\\n            \\n              Gross NPA %\\n            \\n          \\n\\n\\n\\n\\n\\n\\n\\n\\n\\n\\n\\n\\n\\n\\n\\n\\n            \\n              Net NPA %\\n            \\n          \\n\\n\\n\\n\\n\\n\\n\\n\\n\\n\\n\\n\\n\\n\\n\\nRaw PDF\\n\\n\\n\\n\\n\\n\\n\\n\\n\\n\\n\\n\\n\\n\\n\\n\\n\\n\\n\\n\\n\\n\\n\\n\\n\\n\\n\\n\\n\\n\\n\\n\\n\\n\\n\\n\\n\\n\\n\\n\\n\\n\\n\\n\\n\\n\\n\\n\\n\\n\\n\\n\\n\\n\\n\\n\\n\\n\\n\\n\\n\\n\\n\\n\\n\\n\\n\\n\\n\\n\\n\\n            Upcoming result date: 19 October 2024\\n\\n\\n\\n\\n\\n\\nProfit & Loss\\n\\n      \\n        Consolidated Figures in Rs. Crores\\n        /\\n        View Standalone\\n\\n\\n\\n\\n\\n        Related Party\\n      \\n\\n\\n        Close Segments\\n      \\n\\n\\n          Product Segments\\n        \\n\\n\\n\\n\\n\\n\\n\\n\\nMar 2013\\nMar 2014\\nMar 2015\\nMar 2016\\nMar 2017\\nMar 2018\\nMar 2019\\nMar 2020\\nMar 2021\\nMar 2022\\nMar 2023\\nMar 2024\\nTTM\\n\\n\\n\\n\\n\\n            \\n              Revenue\\n            \\n          \\n35,861\\n42,555\\n50,666\\n63,162\\n73,271\\n85,288\\n105,161\\n122,189\\n128,552\\n135,936\\n170,754\\n283,649\\n314,027\\n\\n\\n\\n            \\n              Interest\\n            \\n          \\n19,695\\n23,445\\n27,288\\n34,070\\n38,042\\n42,381\\n53,713\\n62,137\\n59,248\\n58,584\\n77,780\\n154,139\\n172,763\\n\\n\\n\\n\\n                Expenses\\xa0+\\n\\n\\n12,631\\n13,508\\n16,164\\n20,055\\n23,856\\n29,532\\n34,856\\n45,459\\n52,457\\n56,557\\n63,042\\n174,196\\n208,507\\n\\n\\n\\n            \\n              Financing Profit\\n            \\n          \\n3,534\\n5,602\\n7,214\\n9,037\\n11,374\\n13,374\\n16,592\\n14,593\\n16,848\\n20,795\\n29,932\\n-44,685\\n-67,244\\n\\n\\n\\n            \\n              Financing Margin %\\n            \\n          \\n10%\\n13%\\n14%\\n14%\\n16%\\n16%\\n16%\\n12%\\n13%\\n15%\\n18%\\n-16%\\n-21%\\n\\n\\n\\n\\n                Other Income\\xa0+\\n\\n\\n7,133\\n8,298\\n9,546\\n11,212\\n12,905\\n16,057\\n18,947\\n24,879\\n27,333\\n31,759\\n33,912\\n124,346\\n149,943\\n\\n\\n\\n            \\n              Depreciation\\n            \\n          \\n663\\n689\\n680\\n738\\n886\\n967\\n1,221\\n1,277\\n1,385\\n1,681\\n2,345\\n3,092\\n0\\n\\n\\n\\n            \\n              Profit before tax\\n            \\n          \\n10,004\\n13,211\\n16,079\\n19,511\\n23,393\\n28,464\\n34,318\\n38,195\\n42,796\\n50,873\\n61,498\\n76,569\\n82,699\\n\\n\\n\\n            \\n              Tax %\\n            \\n          \\n31%\\n34%\\n33%\\n34%\\n35%\\n35%\\n35%\\n29%\\n26%\\n25%\\n25%\\n15%\\n\\n\\n\\n\\n\\n                Net Profit\\xa0+\\n\\n\\n6,903\\n8,768\\n10,703\\n12,821\\n15,317\\n18,561\\n22,446\\n27,296\\n31,857\\n38,151\\n46,149\\n65,446\\n70,231\\n\\n\\n\\n            \\n              EPS in Rs\\n            \\n          \\n14.44\\n18.22\\n21.32\\n25.32\\n29.81\\n35.66\\n41.00\\n49.70\\n57.74\\n68.62\\n82.44\\n84.33\\n89.75\\n\\n\\n\\n            \\n              Dividend Payout %\\n            \\n          \\n19%\\n19%\\n19%\\n19%\\n18%\\n18%\\n18%\\n5%\\n11%\\n23%\\n23%\\n23%\\n\\n\\n\\n\\n\\n\\n\\n\\nCompounded Sales Growth\\n\\n\\n10 Years:\\n21%\\n\\n\\n5 Years:\\n22%\\n\\n\\n3 Years:\\n30%\\n\\n\\nTTM:\\n70%\\n\\n\\n\\n\\nCompounded Profit Growth\\n\\n\\n10 Years:\\n22%\\n\\n\\n5 Years:\\n23%\\n\\n\\n3 Years:\\n26%\\n\\n\\nTTM:\\n40%\\n\\n\\n\\n\\nStock Price CAGR\\n\\n\\n10 Years:\\n14%\\n\\n\\n5 Years:\\n7%\\n\\n\\n3 Years:\\n0%\\n\\n\\n1 Year:\\n10%\\n\\n\\n\\n\\nReturn on Equity\\n\\n\\n10 Years:\\n17%\\n\\n\\n5 Years:\\n17%\\n\\n\\n3 Years:\\n17%\\n\\n\\nLast Year:\\n17%\\n\\n\\n\\n\\n\\n\\n\\nBalance Sheet\\n\\n      \\n        Consolidated Figures in Rs. Crores\\n        /\\n        View Standalone\\n\\n\\n\\nCorporate actions\\n\\n\\n\\n\\n\\n\\n\\nMar 2013\\nMar 2014\\nMar 2015\\nMar 2016\\nMar 2017\\nMar 2018\\nMar 2019\\nMar 2020\\nMar 2021\\nMar 2022\\nMar 2023\\nMar 2024\\n\\n\\n\\n\\n\\n            \\n              Equity Capital\\n            \\n          \\n476\\n480\\n501\\n506\\n513\\n519\\n545\\n548\\n551\\n555\\n558\\n760\\n\\n\\n\\n            \\n              Reserves\\n            \\n          \\n36,167\\n43,687\\n62,653\\n73,798\\n91,281\\n109,080\\n153,128\\n175,810\\n209,259\\n246,772\\n288,880\\n455,636\\n\\n\\n\\n\\n                Borrowings\\xa0+\\n\\n\\n335,588\\n416,677\\n509,762\\n649,587\\n741,550\\n944,817\\n1,080,235\\n1,333,041\\n1,511,418\\n1,784,970\\n2,139,212\\n3,107,503\\n\\n\\n\\n\\n                Other Liabilities\\xa0+\\n\\n\\n35,492\\n42,776\\n34,181\\n38,321\\n59,000\\n48,770\\n58,898\\n71,430\\n78,279\\n90,639\\n101,783\\n466,296\\n\\n\\n\\n            \\n              Total Liabilities\\n            \\n          \\n407,723\\n503,620\\n607,097\\n762,212\\n892,344\\n1,103,186\\n1,292,806\\n1,580,830\\n1,799,507\\n2,122,934\\n2,530,432\\n4,030,194\\n\\n\\n\\n\\n                Fixed Assets\\xa0+\\n\\n\\n2,773\\n3,026\\n3,225\\n3,667\\n4,000\\n4,008\\n4,369\\n4,776\\n5,248\\n6,432\\n8,431\\n12,604\\n\\n\\n\\n            \\n              CWIP\\n            \\n          \\n0\\n0\\n0\\n0\\n0\\n0\\n0\\n0\\n0\\n0\\n0\\n0\\n\\n\\n\\n            \\n              Investments\\n            \\n          \\n110,960\\n119,571\\n149,454\\n193,634\\n210,777\\n238,461\\n289,446\\n389,305\\n438,823\\n449,264\\n511,582\\n1,005,682\\n\\n\\n\\n\\n                Other Assets\\xa0+\\n\\n\\n293,989\\n381,023\\n454,417\\n564,912\\n677,567\\n860,717\\n998,991\\n1,186,750\\n1,355,435\\n1,667,238\\n2,010,419\\n3,011,909\\n\\n\\n\\n            \\n              Total Assets\\n            \\n          \\n407,723\\n503,620\\n607,097\\n762,212\\n892,344\\n1,103,186\\n1,292,806\\n1,580,830\\n1,799,507\\n2,122,934\\n2,530,432\\n4,030,194\\n\\n\\n\\n\\n\\n\\n\\n\\nCash Flows\\n\\n      \\n        Consolidated Figures in Rs. Crores\\n        /\\n        View Standalone\\n\\n\\n\\n\\n\\n\\n\\n\\n\\n\\nMar 2013\\nMar 2014\\nMar 2015\\nMar 2016\\nMar 2017\\nMar 2018\\nMar 2019\\nMar 2020\\nMar 2021\\nMar 2022\\nMar 2023\\nMar 2024\\n\\n\\n\\n\\n\\n\\n                Cash from Operating Activity\\xa0+\\n\\n\\n-5,847\\n4,211\\n-21,281\\n-34,435\\n17,282\\n17,214\\n-62,872\\n-16,869\\n42,476\\n-11,960\\n20,814\\n19,069\\n\\n\\n\\n\\n                Cash from Investing Activity\\xa0+\\n\\n\\n-902\\n-1,099\\n-800\\n-837\\n-1,146\\n-842\\n-1,503\\n-1,403\\n-1,823\\n-2,051\\n-2,992\\n16,600\\n\\n\\n\\n\\n                Cash from Financing Activity\\xa0+\\n\\n\\n13,105\\n9,270\\n18,694\\n37,815\\n-5,893\\n57,378\\n23,131\\n24,394\\n-7,321\\n48,124\\n23,941\\n-3,983\\n\\n\\n\\n            \\n              Net Cash Flow\\n            \\n          \\n6,356\\n12,382\\n-3,387\\n2,542\\n10,242\\n73,750\\n-41,244\\n6,122\\n33,332\\n34,113\\n41,762\\n31,687\\n\\n\\n\\n\\n\\n\\n\\n\\nRatios\\n\\n      \\n        Consolidated Figures in Rs. Crores\\n        /\\n        View Standalone\\n\\n\\n\\n\\n\\n\\n\\n\\n\\n\\nMar 2013\\nMar 2014\\nMar 2015\\nMar 2016\\nMar 2017\\nMar 2018\\nMar 2019\\nMar 2020\\nMar 2021\\nMar 2022\\nMar 2023\\nMar 2024\\n\\n\\n\\n\\n\\n            \\n              ROE %\\n            \\n          \\n21%\\n22%\\n20%\\n19%\\n18%\\n18%\\n17%\\n16%\\n16%\\n17%\\n17%\\n17%\\n\\n\\n\\n\\n\\n\\n\\n\\nShareholding Pattern\\nNumbers in percentages\\n\\n\\n\\n\\n        Quarterly\\n      \\n\\n        Yearly\\n      \\n\\n\\n\\n        Trades\\n      \\n\\n          57 Recently\\n        \\n\\n\\n\\n\\n\\n\\n\\n\\n\\nDec 2021Mar 2022Jun 2022Sep 2022Dec 2022Mar 2023Jun 2023Sep 2023Dec 2023Mar 2024Jun 2024Sep 2024\\n\\n\\n\\n\\n\\n\\n                Promoters\\xa0+\\n\\n\\n25.80%\\n25.78%\\n25.73%\\n25.64%\\n25.60%\\n25.59%\\n25.52%\\n0.00%\\n0.00%\\n0.00%\\n0.00%\\n0.00%\\n\\n\\n\\n\\n                FIIs\\xa0+\\n\\n\\n37.47%\\n35.62%\\n32.31%\\n32.14%\\n32.10%\\n32.24%\\n33.38%\\n52.13%\\n52.31%\\n47.83%\\n47.17%\\n48.02%\\n\\n\\n\\n\\n                DIIs\\xa0+\\n\\n\\n22.97%\\n24.55%\\n27.11%\\n27.53%\\n28.13%\\n28.09%\\n26.75%\\n30.39%\\n30.54%\\n33.33%\\n35.20%\\n35.05%\\n\\n\\n\\n\\n                Government\\xa0+\\n\\n\\n0.16%\\n0.16%\\n0.16%\\n0.16%\\n0.16%\\n0.16%\\n0.16%\\n0.17%\\n0.17%\\n0.18%\\n0.18%\\n0.18%\\n\\n\\n\\n\\n                Public\\xa0+\\n\\n\\n13.60%\\n13.89%\\n14.69%\\n14.51%\\n13.99%\\n13.91%\\n14.19%\\n17.30%\\n16.98%\\n18.64%\\n17.44%\\n16.75%\\n\\n\\nNo. of Shareholders\\n18,88,27621,51,63026,60,57725,20,91123,03,29122,90,09223,45,67230,58,65930,18,24741,21,81536,64,32539,21,910\\n\\n\\n\\n\\n\\n\\n\\n\\n\\n\\n\\nMar 2017Mar 2018Mar 2019Mar 2020Mar 2021Mar 2022Mar 2023Mar 2024Sep 2024\\n\\n\\n\\n\\n\\n\\n                Promoters\\xa0+\\n\\n\\n26.00%\\n25.60%\\n26.50%\\n26.14%\\n25.97%\\n25.78%\\n25.59%\\n0.00%\\n0.00%\\n\\n\\n\\n\\n                FIIs\\xa0+\\n\\n\\n42.13%\\n40.43%\\n38.71%\\n36.68%\\n39.79%\\n35.62%\\n32.24%\\n47.83%\\n48.02%\\n\\n\\n\\n\\n                DIIs\\xa0+\\n\\n\\n12.94%\\n14.97%\\n16.41%\\n21.74%\\n20.99%\\n24.55%\\n28.09%\\n33.33%\\n35.05%\\n\\n\\n\\n\\n                Government\\xa0+\\n\\n\\n0.13%\\n0.13%\\n0.20%\\n0.23%\\n0.24%\\n0.16%\\n0.16%\\n0.18%\\n0.18%\\n\\n\\n\\n\\n                Public\\xa0+\\n\\n\\n18.80%\\n18.87%\\n18.19%\\n15.21%\\n13.01%\\n13.89%\\n13.91%\\n18.64%\\n16.75%\\n\\n\\nNo. of Shareholders\\n4,63,5685,10,3775,89,93012,86,08313,75,29421,51,63022,90,09241,21,81539,21,910\\n\\n\\n\\n\\n\\n\\n  * The classifications might have changed from Sep'2022 onwards.\\n  \\n\\n\\n      The new XBRL format added more details from Sep'22 onwards.\\n      \\n\\n      Classifications such as banks and foreign portfolio investors were not available earlier. The sudden changes in FII or DII can be because of these changes.\\n      \\n\\n      Click on the line-items to see the names of individual entities.\\n    \\n\\n\\n\\n\\n\\nDocuments\\n\\n\\n\\nAnnouncements\\n\\n\\n\\n\\n\\n      Recent\\n    \\n\\n      Important\\n    \\n\\n      Search\\n    \\n\\n      All\\n      \\n\\n\\n\\n\\n\\n\\n          Announcement under Regulation 30 (LODR)-Analyst / Investor Meet - Intimation\\n\\n          \\n            1d - Earnings call for the unaudited financial results for the quarter and half year ended September 30, 2024\\n\\n\\n\\n\\n          Compliances-Reg. 39 (3) - Details of Loss of Certificate / Duplicate Certificate\\n\\n          \\n            8 Oct - Notice for loss/misplacement of share certificates.\\n\\n\\n\\n\\n          Intimation Under Regulation 30 Of The SEBI (LODR) Regulations, 2015 - Sale Of Shares Of HDFC Education And Development Services Private Limited ('HDFC Edu') By HDFC Bank Limited\\n\\n          \\n            7 Oct - HDFC Bank sells 100% stake in HDFC Edu.\\n\\n\\n\\n\\n          Intimation Under SEBI (LODR) Regulations, 2015\\n\\n          \\n            4 Oct - HDFC Bank reports growth in advances and deposits for Q2 2024.\\n\\n\\n\\n\\n          Announcement under Regulation 30 (LODR)-Acquisition\\n\\n          \\n            1 Oct - Incorporation of HDFC Securities IFSC Limited as a subsidiary.\\n\\n\\n\\n\\n\\n\\n\\nAnnual reports\\n\\n\\n\\n\\n      Financial Year 2024\\n      \\n        from bse\\n      \\n\\n\\n\\n\\n      Financial Year 2023\\n      \\n        from bse\\n      \\n\\n\\n\\n\\n      Financial Year 2022\\n      \\n        from bse\\n      \\n\\n\\n\\n\\n      Financial Year 2021\\n      \\n        from bse\\n      \\n\\n\\n\\n\\n      Financial Year 2020\\n      \\n        from bse\\n      \\n\\n\\n\\n\\n      Financial Year 2019\\n      \\n        from bse\\n      \\n\\n\\n\\n\\n      Financial Year 2018\\n      \\n        from bse\\n      \\n\\n\\n\\n\\n      Financial Year 2017\\n      \\n        from bse\\n      \\n\\n\\n\\n\\n      Financial Year 2016\\n      \\n        from bse\\n      \\n\\n\\n\\n\\n      Financial Year 2015\\n      \\n        from bse\\n      \\n\\n\\n\\n\\n      Financial Year 2014\\n      \\n        from bse\\n      \\n\\n\\n\\n\\n      Financial Year 2013\\n      \\n        from bse\\n      \\n\\n\\n\\n\\n      Financial Year 2012\\n      \\n        from bse\\n      \\n\\n\\n\\n\\n      Financial Year 2012\\n      \\n        from nse\\n      \\n\\n\\n\\n\\n      Financial Year 2011\\n      \\n        from bse\\n      \\n\\n\\n\\n\\n\\n\\nCredit ratings\\n\\n\\n\\n\\n      Rating update\\n      \\n        1 Jul from icra\\n      \\n\\n\\n\\n\\n      Rating update\\n      \\n        28 Jun from crisil\\n      \\n\\n\\n\\n\\n      Rating update\\n      \\n        7 Mar from care\\n      \\n\\n\\n\\n\\n      Rating update\\n      \\n        5 Dec 2023 from fitch\\n      \\n\\n\\n\\n\\n      Rating update\\n      \\n        13 Nov 2023 from care\\n      \\n\\n\\n\\n\\n      Rating update\\n      \\n        5 Jul 2023 from icra\\n      \\n\\n\\n\\n\\n\\n\\n\\nConcalls\\n\\n\\nAdd Missing\\n\\n\\n\\n\\n\\n      Jul 2024\\n    \\n\\n      Transcript\\n    \\n\\n      Notes\\n    \\n\\n      PPT\\n    \\n\\n      REC\\n    \\n\\n\\n\\n      Jul 2024\\n    \\nTranscript\\nNotes\\n\\n      PPT\\n    \\n\\n\\n\\n      Apr 2024\\n    \\n\\n      Transcript\\n    \\n\\n      Notes\\n    \\n\\n      PPT\\n    \\n\\n      REC\\n    \\n\\n\\n\\n      Mar 2024\\n    \\nTranscript\\nNotes\\n\\n      PPT\\n    \\n\\n\\n\\n      Feb 2024\\n    \\n\\n      Transcript\\n    \\n\\n      Notes\\n    \\n\\n      PPT\\n    \\n\\n\\n\\n      Jan 2024\\n    \\n\\n      Transcript\\n    \\n\\n      Notes\\n    \\n\\n      PPT\\n    \\n\\n      REC\\n    \\n\\n\\n\\n      Oct 2023\\n    \\nTranscript\\nNotes\\n\\n      PPT\\n    \\n\\n      REC\\n    \\n\\n\\n\\n      Oct 2023\\n    \\n\\n      Transcript\\n    \\n\\n      Notes\\n    \\n\\n      PPT\\n    \\n\\n      REC\\n    \\n\\n\\n\\n      Oct 2023\\n    \\n\\n      Transcript\\n    \\n\\n      Notes\\n    \\n\\n      PPT\\n    \\n\\n      REC\\n    \\n\\n\\n\\n      Sep 2023\\n    \\nTranscript\\nNotes\\n\\n      PPT\\n    \\n\\n\\n\\n      Jul 2023\\n    \\n\\n      Transcript\\n    \\n\\n      Notes\\n    \\n\\n      PPT\\n    \\n\\n      REC\\n    \\n\\n\\n\\n      Apr 2023\\n    \\n\\n      Transcript\\n    \\n\\n      Notes\\n    \\n\\n      PPT\\n    \\n\\n\\n\\n      Jan 2023\\n    \\n\\n      Transcript\\n    \\n\\n      Notes\\n    \\nPPT\\n\\n\\n\\n      Jul 2022\\n    \\n\\n      Transcript\\n    \\n\\n      Notes\\n    \\nPPT\\n\\n\\n\\n      Apr 2022\\n    \\n\\n      Transcript\\n    \\n\\n      Notes\\n    \\n\\n      PPT\\n    \\n\\n\\n\\n      Apr 2022\\n    \\nTranscript\\nNotes\\n\\n      PPT\\n    \\n\\n\\n\\n      May 2018\\n    \\nTranscript\\nNotes\\n\\n      PPT\\n    \\n\\n\\n\\n\\n\\n\\n\\n\\n\\n\\n\\n\\n\\n\\n\\nStock analysis and screening tool\\n\\n        Mittal Analytics Private Ltd © 2009-2024\\n        \\n        Made with  in India.\\n      \\nData provided by C-MOTS Internet Technologies Pvt Ltd\\n\\nTerms & Privacy.\\n      \\n\\n\\n\\nProduct\\n\\n\\nPremium\\n\\n\\nWhat's new?\\n\\n\\nLearn\\n\\n\\n\\n\\n              Install\\n            \\n\\n\\n\\n\\nTeam\\n\\n\\nAbout us\\n\\n\\nSupport\\n\\n\\n\\n\\nTheme\\n\\n\\n\\n\\n              Light\\n            \\n\\n\\n\\n\\n              Dark\\n            \\n\\n\\n\\n\\n              Auto\\n            \\n\\n\\n\\n\\n\\n\\nMittal Analytics Private Ltd © 2009-2024\\nData provided by C-MOTS Internet Technologies Pvt Ltd\\n\\nTerms\\n        & Privacy.\\n      \\n\\n\\n\\n\\n\\n\\n\\n\\n\\n\\n\\n\\n\\n\\n\\n\\n\\n\\n\\n\\n\\n\\n\\n\")]"
      ]
     },
     "execution_count": 10,
     "metadata": {},
     "output_type": "execute_result"
    }
   ],
   "source": [
    "data = loader.load()\n",
    "data"
   ]
  },
  {
   "cell_type": "markdown",
   "metadata": {},
   "source": [
    "#### Splitter/Chunking"
   ]
  },
  {
   "cell_type": "code",
   "execution_count": 23,
   "metadata": {},
   "outputs": [],
   "source": [
    "from langchain_text_splitters import RecursiveCharacterTextSplitter\n",
    "\n",
    "text_splitter = RecursiveCharacterTextSplitter(chunk_size=1000, chunk_overlap = 500)\n",
    "text = text_splitter.split_documents(data)"
   ]
  },
  {
   "cell_type": "code",
   "execution_count": 24,
   "metadata": {},
   "outputs": [
    {
     "data": {
      "text/plain": [
       "[Document(metadata={'source': 'https://www.screener.in/company/HDFCBANK/consolidated/', 'title': 'HDFC Bank Ltd share price | About HDFC Bank | Key Insights - Screener', 'language': 'en'}, page_content='HDFC Bank Ltd share price | About HDFC Bank | Key Insights - Screener\\n\\n\\n\\n\\n\\n\\n\\n\\n\\n\\n\\n\\n\\n\\n\\n\\n\\n\\n\\n\\n\\n\\n\\n\\n\\n\\n\\n\\n\\n\\n\\n\\n\\n\\n\\n\\n      Home\\n    \\n\\n\\n\\n\\n\\n      Screens\\n    \\n\\n\\n\\n\\n\\n\\n\\n\\n\\n\\n      Tools\\n    \\n\\n\\n\\n\\n\\n      Login\\n    \\n\\n\\n\\n\\n\\n\\n\\n\\n\\n\\n\\n\\n          \\n            Home\\n          \\n        \\nScreens\\n\\n\\n            Tools\\n            \\n\\n\\n\\n\\n\\n\\n\\n\\nCreate a stock screen\\nRun queries on 10 years of financial data\\n\\n\\n\\n\\n\\n\\nPremium features\\n\\n\\n\\n\\n\\n\\n\\n\\n\\nCommodity Prices\\nSee prices and trends of over 10,000 commodities\\n\\n\\n\\n\\n\\n\\n\\n\\n\\nSearch shareholders\\nSee companies where a person holds over 1% of the shares\\n\\n\\n\\n\\n\\n\\n\\n\\n\\nLatest Announcements\\nBrowse, filter and set alerts for announcements.\\n\\n\\n\\n\\nUpgrade to premium\\n\\n\\n\\n\\n\\n\\n\\n\\n\\n\\n\\n\\n\\n\\n            Login\\n          \\nGet free account\\n\\n\\n\\n\\n\\n\\n\\n\\n\\nHDFC Bank Ltd\\n\\n\\nNotebook\\n\\n\\n\\n\\n\\nHDFC Bank\\nSummary\\n\\nChart\\nAnalysis\\nPeers\\nQuarters\\nProfit & Loss\\nBalance Sheet\\nCash Flow\\nRatios\\nInvestors\\nDocuments\\n\\n\\n\\n\\nNotebook\\n\\n\\n\\n\\n\\n\\n\\n\\n\\n\\n\\nHDFC Bank Ltd\\n\\n\\n\\n\\n\\n₹ 1,700\\n\\n\\n                0.93%'),\n",
       " Document(metadata={'source': 'https://www.screener.in/company/HDFCBANK/consolidated/', 'title': 'HDFC Bank Ltd share price | About HDFC Bank | Key Insights - Screener', 'language': 'en'}, page_content='Search shareholders\\nSee companies where a person holds over 1% of the shares\\n\\n\\n\\n\\n\\n\\n\\n\\n\\nLatest Announcements\\nBrowse, filter and set alerts for announcements.\\n\\n\\n\\n\\nUpgrade to premium\\n\\n\\n\\n\\n\\n\\n\\n\\n\\n\\n\\n\\n\\n\\n            Login\\n          \\nGet free account\\n\\n\\n\\n\\n\\n\\n\\n\\n\\nHDFC Bank Ltd\\n\\n\\nNotebook\\n\\n\\n\\n\\n\\nHDFC Bank\\nSummary\\n\\nChart\\nAnalysis\\nPeers\\nQuarters\\nProfit & Loss\\nBalance Sheet\\nCash Flow\\nRatios\\nInvestors\\nDocuments\\n\\n\\n\\n\\nNotebook\\n\\n\\n\\n\\n\\n\\n\\n\\n\\n\\n\\nHDFC Bank Ltd\\n\\n\\n\\n\\n\\n₹ 1,700\\n\\n\\n                0.93%\\n              \\n\\n\\n            \\n              16 Oct\\n              \\n                - close price\\n              \\n            \\n          \\n\\n\\n\\n\\n\\n\\n\\nExport to Excel\\n\\n\\n\\n Follow\\n            \\n\\n\\n\\n\\n\\n\\n\\nhdfcbank.com\\n\\n\\n\\n\\n            BSE:\\n            500180\\n          \\n\\n\\n\\n\\n            NSE:\\n            HDFCBANK'),\n",
       " Document(metadata={'source': 'https://www.screener.in/company/HDFCBANK/consolidated/', 'title': 'HDFC Bank Ltd share price | About HDFC Bank | Key Insights - Screener', 'language': 'en'}, page_content=\"HDFC Bank\\nSummary\\n\\nChart\\nAnalysis\\nPeers\\nQuarters\\nProfit & Loss\\nBalance Sheet\\nCash Flow\\nRatios\\nInvestors\\nDocuments\\n\\n\\n\\n\\nNotebook\\n\\n\\n\\n\\n\\n\\n\\n\\n\\n\\n\\nHDFC Bank Ltd\\n\\n\\n\\n\\n\\n₹ 1,700\\n\\n\\n                0.93%\\n              \\n\\n\\n            \\n              16 Oct\\n              \\n                - close price\\n              \\n            \\n          \\n\\n\\n\\n\\n\\n\\n\\nExport to Excel\\n\\n\\n\\n Follow\\n            \\n\\n\\n\\n\\n\\n\\n\\nhdfcbank.com\\n\\n\\n\\n\\n            BSE:\\n            500180\\n          \\n\\n\\n\\n\\n            NSE:\\n            HDFCBANK\\n          \\n\\n\\n\\n\\n\\nAbout\\nHDFC Bank Limited (also known as HDFC) is an Indian banking and financial services company headquartered in Mumbai. It is India's largest private sector bank by assets and the world's tenth-largest bank by market capitalization as of May 2024.\\nAs of April 2024, HDFC Bank has a market capitalization of $145 billion, making it the third-largest company on the Indian stock exchanges. [1]\\nKey Points\"),\n",
       " Document(metadata={'source': 'https://www.screener.in/company/HDFCBANK/consolidated/', 'title': 'HDFC Bank Ltd share price | About HDFC Bank | Key Insights - Screener', 'language': 'en'}, page_content=\"NSE:\\n            HDFCBANK\\n          \\n\\n\\n\\n\\n\\nAbout\\nHDFC Bank Limited (also known as HDFC) is an Indian banking and financial services company headquartered in Mumbai. It is India's largest private sector bank by assets and the world's tenth-largest bank by market capitalization as of May 2024.\\nAs of April 2024, HDFC Bank has a market capitalization of $145 billion, making it the third-largest company on the Indian stock exchanges. [1]\\nKey Points\\n\\nMarket Position\\nThe company is India's one of 3 systemically important banks with a 15% market share in the banking sector’s advances and a 37% market share in the private sector banks’ advances as of FY24. It is also the second-largest bank in India. [1] It is among the top 3 Government Banks collecting direct and indirect taxes for the Government of India. [2] It is a market leader in almost every asset category. [3]\\n\\n\\n\\n              Read More \\n\\n\\n\\n\\n\\nWebsite\\n\\n\\n\\nBSE\\n\\n\\n\\n\\n                NSE\"),\n",
       " Document(metadata={'source': 'https://www.screener.in/company/HDFCBANK/consolidated/', 'title': 'HDFC Bank Ltd share price | About HDFC Bank | Key Insights - Screener', 'language': 'en'}, page_content='Read More \\n\\n\\n\\n\\n\\nWebsite\\n\\n\\n\\nBSE\\n\\n\\n\\n\\n                NSE\\n                \\n              \\n\\n\\n\\n\\n\\n\\n\\n      \\n        Market Cap\\n      \\n    \\n\\n        ₹\\n        12,96,849\\n        \\n          Cr.\\n        \\n      \\n\\n\\n\\n      \\n        Current Price\\n      \\n    \\n\\n        ₹\\n        1,700\\n\\n\\n\\n\\n      \\n        High / Low\\n      \\n    \\n₹ 1,794 / 1,363\\n\\n\\n\\n      \\n        Stock P/E\\n      \\n    \\n\\n19.0\\n\\n\\n\\n\\n      \\n        Book Value\\n      \\n    \\n\\n        ₹\\n        601\\n\\n\\n\\n\\n      \\n        Dividend Yield\\n      \\n    \\n\\n1.15\\n        \\n          %\\n        \\n      \\n\\n\\n\\n      \\n        ROCE\\n      \\n    \\n\\n7.67\\n        \\n          %\\n        \\n      \\n\\n\\n\\n      \\n        ROE\\n      \\n    \\n\\n17.1\\n        \\n          %\\n        \\n      \\n\\n\\n\\n      \\n        Face Value\\n      \\n    \\n\\n        ₹\\n        1.00\\n\\n\\n\\n\\nAdd ratio to table\\n\\n\\n\\n\\n\\n\\nEdit ratios\\n\\n\\n\\n\\n\\n\\n\\n\\n\\n1m\\n6m\\n1Yr\\n3Yr\\n5Yr\\n10Yr\\nMax\\n\\n\\n\\nPrice\\nPE Ratio\\nHidden\\n\\n\\n          More \\n\\n\\n\\nSales & Margin\\n\\n\\nEV / EBITDA\\n\\n\\nPrice to Book\\n\\n\\nMarket Cap / Sales\\n\\n\\n\\n\\n\\n\\nAlerts\\n\\n\\n\\n\\n\\n\\n\\n\\n\\n\\n\\n\\n\\n\\n\\n\\n\\n\\n\\n\\n\\n\\n\\n\\n\\n\\n\\nPros'),\n",
       " Document(metadata={'source': 'https://www.screener.in/company/HDFCBANK/consolidated/', 'title': 'HDFC Bank Ltd share price | About HDFC Bank | Key Insights - Screener', 'language': 'en'}, page_content=\"1.15\\n        \\n          %\\n        \\n      \\n\\n\\n\\n      \\n        ROCE\\n      \\n    \\n\\n7.67\\n        \\n          %\\n        \\n      \\n\\n\\n\\n      \\n        ROE\\n      \\n    \\n\\n17.1\\n        \\n          %\\n        \\n      \\n\\n\\n\\n      \\n        Face Value\\n      \\n    \\n\\n        ₹\\n        1.00\\n\\n\\n\\n\\nAdd ratio to table\\n\\n\\n\\n\\n\\n\\nEdit ratios\\n\\n\\n\\n\\n\\n\\n\\n\\n\\n1m\\n6m\\n1Yr\\n3Yr\\n5Yr\\n10Yr\\nMax\\n\\n\\n\\nPrice\\nPE Ratio\\nHidden\\n\\n\\n          More \\n\\n\\n\\nSales & Margin\\n\\n\\nEV / EBITDA\\n\\n\\nPrice to Book\\n\\n\\nMarket Cap / Sales\\n\\n\\n\\n\\n\\n\\nAlerts\\n\\n\\n\\n\\n\\n\\n\\n\\n\\n\\n\\n\\n\\n\\n\\n\\n\\n\\n\\n\\n\\n\\n\\n\\n\\n\\n\\nPros\\n\\nCompany is expected to give good quarterCompany has delivered good profit growth of 23.4% CAGR over last 5 yearsCompany has been maintaining a healthy dividend payout of 22.9%Company's median sales growth is 16.4% of last 10 years\\n\\n\\n\\nCons\\n\\nStock is trading at 2.83 times its book valueCompany has low interest coverage ratio.Contingent liabilities of Rs.24,09,821 Cr.Earnings include an other income of Rs.1,49,943 Cr.\\n\\n\\n\\n\\n*\\nThe pros and cons are machine generated.\"),\n",
       " Document(metadata={'source': 'https://www.screener.in/company/HDFCBANK/consolidated/', 'title': 'HDFC Bank Ltd share price | About HDFC Bank | Key Insights - Screener', 'language': 'en'}, page_content=\"Pros\\n\\nCompany is expected to give good quarterCompany has delivered good profit growth of 23.4% CAGR over last 5 yearsCompany has been maintaining a healthy dividend payout of 22.9%Company's median sales growth is 16.4% of last 10 years\\n\\n\\n\\nCons\\n\\nStock is trading at 2.83 times its book valueCompany has low interest coverage ratio.Contingent liabilities of Rs.24,09,821 Cr.Earnings include an other income of Rs.1,49,943 Cr.\\n\\n\\n\\n\\n*\\nThe pros and cons are machine generated.\\n\\n\\n\\n            Pros / cons are based on a checklist to highlight important points. Please exercise caution and do your own analysis.\\n          \\n\\n\\n\\n\\n\\n\\nPeer comparison\\n\\n              Sector:\\n              Banks\\n\\n              Industry:\\n              \\n                Banks - Private Sector\\n              \\n\\n\\n\\n\\n\\nEdit\\n            Columns\\n          \\n\\n\\nLoading peers table ...\\n\\nDetailed Comparison with:\\n\\n\\n\\n\\n\\n\\n\\n\\nQuarterly Results\"),\n",
       " Document(metadata={'source': 'https://www.screener.in/company/HDFCBANK/consolidated/', 'title': 'HDFC Bank Ltd share price | About HDFC Bank | Key Insights - Screener', 'language': 'en'}, page_content='*\\nThe pros and cons are machine generated.\\n\\n\\n\\n            Pros / cons are based on a checklist to highlight important points. Please exercise caution and do your own analysis.\\n          \\n\\n\\n\\n\\n\\n\\nPeer comparison\\n\\n              Sector:\\n              Banks\\n\\n              Industry:\\n              \\n                Banks - Private Sector\\n              \\n\\n\\n\\n\\n\\nEdit\\n            Columns\\n          \\n\\n\\nLoading peers table ...\\n\\nDetailed Comparison with:\\n\\n\\n\\n\\n\\n\\n\\n\\nQuarterly Results\\n\\n      \\n        Consolidated Figures in Rs. Crores\\n        /\\n        View Standalone\\n\\n\\n\\n\\n\\n        Close Segments\\n      \\n\\n\\n          Product Segments\\n        \\n\\n\\n\\n\\n\\n\\n\\n\\nJun 2021\\nSep 2021\\nDec 2021\\nMar 2022\\nJun 2022\\nSep 2022\\nDec 2022\\nMar 2023\\nJun 2023\\nSep 2023\\nDec 2023\\nMar 2024\\nJun 2024\\n\\n\\n\\n\\n\\n            \\n              Revenue\\n            \\n          \\n32,254\\n33,520\\n34,588\\n35,574\\n37,274\\n40,930\\n45,002\\n47,548\\n51,168\\n75,039\\n78,008\\n79,434\\n81,546'),\n",
       " Document(metadata={'source': 'https://www.screener.in/company/HDFCBANK/consolidated/', 'title': 'HDFC Bank Ltd share price | About HDFC Bank | Key Insights - Screener', 'language': 'en'}, page_content='Detailed Comparison with:\\n\\n\\n\\n\\n\\n\\n\\n\\nQuarterly Results\\n\\n      \\n        Consolidated Figures in Rs. Crores\\n        /\\n        View Standalone\\n\\n\\n\\n\\n\\n        Close Segments\\n      \\n\\n\\n          Product Segments\\n        \\n\\n\\n\\n\\n\\n\\n\\n\\nJun 2021\\nSep 2021\\nDec 2021\\nMar 2022\\nJun 2022\\nSep 2022\\nDec 2022\\nMar 2023\\nJun 2023\\nSep 2023\\nDec 2023\\nMar 2024\\nJun 2024\\n\\n\\n\\n\\n\\n            \\n              Revenue\\n            \\n          \\n32,254\\n33,520\\n34,588\\n35,574\\n37,274\\n40,930\\n45,002\\n47,548\\n51,168\\n75,039\\n78,008\\n79,434\\n81,546\\n\\n\\n\\n            \\n              Interest\\n            \\n          \\n14,218\\n14,415\\n14,724\\n15,227\\n16,358\\n18,311\\n20,505\\n22,606\\n25,955\\n41,250\\n43,242\\n43,692\\n44,580\\n\\n\\n\\n\\n                Expenses\\xa0+\\n\\n\\n14,073\\n14,698\\n14,423\\n15,044\\n15,021\\n15,915\\n16,682\\n17,770\\n18,470\\n45,349\\n50,530\\n62,938\\n49,690\\n\\n\\n\\n            \\n              Financing Profit\\n            \\n          \\n3,962\\n4,408\\n5,441\\n5,304\\n5,895\\n6,704\\n7,815\\n7,172\\n6,744\\n-11,560\\n-15,764\\n-27,196\\n-12,723'),\n",
       " Document(metadata={'source': 'https://www.screener.in/company/HDFCBANK/consolidated/', 'title': 'HDFC Bank Ltd share price | About HDFC Bank | Key Insights - Screener', 'language': 'en'}, page_content='Interest\\n            \\n          \\n14,218\\n14,415\\n14,724\\n15,227\\n16,358\\n18,311\\n20,505\\n22,606\\n25,955\\n41,250\\n43,242\\n43,692\\n44,580\\n\\n\\n\\n\\n                Expenses\\xa0+\\n\\n\\n14,073\\n14,698\\n14,423\\n15,044\\n15,021\\n15,915\\n16,682\\n17,770\\n18,470\\n45,349\\n50,530\\n62,938\\n49,690\\n\\n\\n\\n            \\n              Financing Profit\\n            \\n          \\n3,962\\n4,408\\n5,441\\n5,304\\n5,895\\n6,704\\n7,815\\n7,172\\n6,744\\n-11,560\\n-15,764\\n-27,196\\n-12,723\\n\\n\\n\\n            \\n              Financing Margin %\\n            \\n          \\n12%\\n13%\\n16%\\n15%\\n16%\\n16%\\n17%\\n15%\\n13%\\n-15%\\n-20%\\n-34%\\n-16%\\n\\n\\n\\n\\n                Other Income\\xa0+\\n\\n\\n6,680\\n7,916\\n8,777\\n8,386\\n6,929\\n8,252\\n9,121\\n9,610\\n9,853\\n32,528\\n37,007\\n44,958\\n35,450\\n\\n\\n\\n            \\n              Depreciation\\n            \\n          \\n0\\n0\\n0\\n0\\n0\\n0\\n0\\n0\\n0\\n0\\n0\\n0\\n0\\n\\n\\n\\n            \\n              Profit before tax\\n            \\n          \\n10,642\\n12,324\\n14,218\\n13,690\\n12,823\\n14,956\\n16,936\\n16,783\\n16,597\\n20,967\\n21,243\\n17,761\\n22,727'),\n",
       " Document(metadata={'source': 'https://www.screener.in/company/HDFCBANK/consolidated/', 'title': 'HDFC Bank Ltd share price | About HDFC Bank | Key Insights - Screener', 'language': 'en'}, page_content='Other Income\\xa0+\\n\\n\\n6,680\\n7,916\\n8,777\\n8,386\\n6,929\\n8,252\\n9,121\\n9,610\\n9,853\\n32,528\\n37,007\\n44,958\\n35,450\\n\\n\\n\\n            \\n              Depreciation\\n            \\n          \\n0\\n0\\n0\\n0\\n0\\n0\\n0\\n0\\n0\\n0\\n0\\n0\\n0\\n\\n\\n\\n            \\n              Profit before tax\\n            \\n          \\n10,642\\n12,324\\n14,218\\n13,690\\n12,823\\n14,956\\n16,936\\n16,783\\n16,597\\n20,967\\n21,243\\n17,761\\n22,727\\n\\n\\n\\n            \\n              Tax %\\n            \\n          \\n25%\\n26%\\n25%\\n23%\\n25%\\n25%\\n25%\\n25%\\n25%\\n17%\\n17%\\n-1%\\n24%\\n\\n\\n\\n\\n                Net Profit\\xa0+\\n\\n\\n7,940\\n9,120\\n10,616\\n10,475\\n9,617\\n11,163\\n12,735\\n12,634\\n12,403\\n17,312\\n17,718\\n18,013\\n17,188\\n\\n\\n\\n            \\n              EPS in Rs\\n            \\n          \\n14.33\\n16.43\\n19.11\\n18.83\\n17.25\\n19.97\\n22.77\\n22.57\\n22.12\\n22.17\\n22.73\\n23.20\\n21.65\\n\\n\\n\\n            \\n              Gross NPA %\\n            \\n          \\n\\n\\n\\n\\n\\n\\n\\n\\n\\n\\n\\n\\n\\n\\n\\n\\n            \\n              Net NPA %\\n            \\n          \\n\\n\\n\\n\\n\\n\\n\\n\\n\\n\\n\\n\\n\\n\\n\\nRaw PDF'),\n",
       " Document(metadata={'source': 'https://www.screener.in/company/HDFCBANK/consolidated/', 'title': 'HDFC Bank Ltd share price | About HDFC Bank | Key Insights - Screener', 'language': 'en'}, page_content='Net Profit\\xa0+\\n\\n\\n7,940\\n9,120\\n10,616\\n10,475\\n9,617\\n11,163\\n12,735\\n12,634\\n12,403\\n17,312\\n17,718\\n18,013\\n17,188\\n\\n\\n\\n            \\n              EPS in Rs\\n            \\n          \\n14.33\\n16.43\\n19.11\\n18.83\\n17.25\\n19.97\\n22.77\\n22.57\\n22.12\\n22.17\\n22.73\\n23.20\\n21.65\\n\\n\\n\\n            \\n              Gross NPA %\\n            \\n          \\n\\n\\n\\n\\n\\n\\n\\n\\n\\n\\n\\n\\n\\n\\n\\n\\n            \\n              Net NPA %\\n            \\n          \\n\\n\\n\\n\\n\\n\\n\\n\\n\\n\\n\\n\\n\\n\\n\\nRaw PDF\\n\\n\\n\\n\\n\\n\\n\\n\\n\\n\\n\\n\\n\\n\\n\\n\\n\\n\\n\\n\\n\\n\\n\\n\\n\\n\\n\\n\\n\\n\\n\\n\\n\\n\\n\\n\\n\\n\\n\\n\\n\\n\\n\\n\\n\\n\\n\\n\\n\\n\\n\\n\\n\\n\\n\\n\\n\\n\\n\\n\\n\\n\\n\\n\\n\\n\\n\\n\\n\\n\\n\\n            Upcoming result date: 19 October 2024\\n\\n\\n\\n\\n\\n\\nProfit & Loss\\n\\n      \\n        Consolidated Figures in Rs. Crores\\n        /\\n        View Standalone\\n\\n\\n\\n\\n\\n        Related Party\\n      \\n\\n\\n        Close Segments\\n      \\n\\n\\n          Product Segments\\n        \\n\\n\\n\\n\\n\\n\\n\\n\\nMar 2013\\nMar 2014\\nMar 2015\\nMar 2016\\nMar 2017\\nMar 2018\\nMar 2019\\nMar 2020\\nMar 2021\\nMar 2022\\nMar 2023\\nMar 2024\\nTTM'),\n",
       " Document(metadata={'source': 'https://www.screener.in/company/HDFCBANK/consolidated/', 'title': 'HDFC Bank Ltd share price | About HDFC Bank | Key Insights - Screener', 'language': 'en'}, page_content='Raw PDF\\n\\n\\n\\n\\n\\n\\n\\n\\n\\n\\n\\n\\n\\n\\n\\n\\n\\n\\n\\n\\n\\n\\n\\n\\n\\n\\n\\n\\n\\n\\n\\n\\n\\n\\n\\n\\n\\n\\n\\n\\n\\n\\n\\n\\n\\n\\n\\n\\n\\n\\n\\n\\n\\n\\n\\n\\n\\n\\n\\n\\n\\n\\n\\n\\n\\n\\n\\n\\n\\n\\n\\n            Upcoming result date: 19 October 2024\\n\\n\\n\\n\\n\\n\\nProfit & Loss\\n\\n      \\n        Consolidated Figures in Rs. Crores\\n        /\\n        View Standalone\\n\\n\\n\\n\\n\\n        Related Party\\n      \\n\\n\\n        Close Segments\\n      \\n\\n\\n          Product Segments\\n        \\n\\n\\n\\n\\n\\n\\n\\n\\nMar 2013\\nMar 2014\\nMar 2015\\nMar 2016\\nMar 2017\\nMar 2018\\nMar 2019\\nMar 2020\\nMar 2021\\nMar 2022\\nMar 2023\\nMar 2024\\nTTM\\n\\n\\n\\n\\n\\n            \\n              Revenue\\n            \\n          \\n35,861\\n42,555\\n50,666\\n63,162\\n73,271\\n85,288\\n105,161\\n122,189\\n128,552\\n135,936\\n170,754\\n283,649\\n314,027\\n\\n\\n\\n            \\n              Interest\\n            \\n          \\n19,695\\n23,445\\n27,288\\n34,070\\n38,042\\n42,381\\n53,713\\n62,137\\n59,248\\n58,584\\n77,780\\n154,139\\n172,763\\n\\n\\n\\n\\n                Expenses\\xa0+\\n\\n\\n12,631\\n13,508\\n16,164\\n20,055\\n23,856\\n29,532\\n34,856\\n45,459\\n52,457\\n56,557\\n63,042\\n174,196\\n208,507'),\n",
       " Document(metadata={'source': 'https://www.screener.in/company/HDFCBANK/consolidated/', 'title': 'HDFC Bank Ltd share price | About HDFC Bank | Key Insights - Screener', 'language': 'en'}, page_content='Revenue\\n            \\n          \\n35,861\\n42,555\\n50,666\\n63,162\\n73,271\\n85,288\\n105,161\\n122,189\\n128,552\\n135,936\\n170,754\\n283,649\\n314,027\\n\\n\\n\\n            \\n              Interest\\n            \\n          \\n19,695\\n23,445\\n27,288\\n34,070\\n38,042\\n42,381\\n53,713\\n62,137\\n59,248\\n58,584\\n77,780\\n154,139\\n172,763\\n\\n\\n\\n\\n                Expenses\\xa0+\\n\\n\\n12,631\\n13,508\\n16,164\\n20,055\\n23,856\\n29,532\\n34,856\\n45,459\\n52,457\\n56,557\\n63,042\\n174,196\\n208,507\\n\\n\\n\\n            \\n              Financing Profit\\n            \\n          \\n3,534\\n5,602\\n7,214\\n9,037\\n11,374\\n13,374\\n16,592\\n14,593\\n16,848\\n20,795\\n29,932\\n-44,685\\n-67,244\\n\\n\\n\\n            \\n              Financing Margin %\\n            \\n          \\n10%\\n13%\\n14%\\n14%\\n16%\\n16%\\n16%\\n12%\\n13%\\n15%\\n18%\\n-16%\\n-21%\\n\\n\\n\\n\\n                Other Income\\xa0+\\n\\n\\n7,133\\n8,298\\n9,546\\n11,212\\n12,905\\n16,057\\n18,947\\n24,879\\n27,333\\n31,759\\n33,912\\n124,346\\n149,943\\n\\n\\n\\n            \\n              Depreciation\\n            \\n          \\n663\\n689\\n680\\n738\\n886\\n967\\n1,221\\n1,277\\n1,385\\n1,681\\n2,345\\n3,092\\n0'),\n",
       " Document(metadata={'source': 'https://www.screener.in/company/HDFCBANK/consolidated/', 'title': 'HDFC Bank Ltd share price | About HDFC Bank | Key Insights - Screener', 'language': 'en'}, page_content='Financing Margin %\\n            \\n          \\n10%\\n13%\\n14%\\n14%\\n16%\\n16%\\n16%\\n12%\\n13%\\n15%\\n18%\\n-16%\\n-21%\\n\\n\\n\\n\\n                Other Income\\xa0+\\n\\n\\n7,133\\n8,298\\n9,546\\n11,212\\n12,905\\n16,057\\n18,947\\n24,879\\n27,333\\n31,759\\n33,912\\n124,346\\n149,943\\n\\n\\n\\n            \\n              Depreciation\\n            \\n          \\n663\\n689\\n680\\n738\\n886\\n967\\n1,221\\n1,277\\n1,385\\n1,681\\n2,345\\n3,092\\n0\\n\\n\\n\\n            \\n              Profit before tax\\n            \\n          \\n10,004\\n13,211\\n16,079\\n19,511\\n23,393\\n28,464\\n34,318\\n38,195\\n42,796\\n50,873\\n61,498\\n76,569\\n82,699\\n\\n\\n\\n            \\n              Tax %\\n            \\n          \\n31%\\n34%\\n33%\\n34%\\n35%\\n35%\\n35%\\n29%\\n26%\\n25%\\n25%\\n15%\\n\\n\\n\\n\\n\\n                Net Profit\\xa0+\\n\\n\\n6,903\\n8,768\\n10,703\\n12,821\\n15,317\\n18,561\\n22,446\\n27,296\\n31,857\\n38,151\\n46,149\\n65,446\\n70,231\\n\\n\\n\\n            \\n              EPS in Rs\\n            \\n          \\n14.44\\n18.22\\n21.32\\n25.32\\n29.81\\n35.66\\n41.00\\n49.70\\n57.74\\n68.62\\n82.44\\n84.33\\n89.75'),\n",
       " Document(metadata={'source': 'https://www.screener.in/company/HDFCBANK/consolidated/', 'title': 'HDFC Bank Ltd share price | About HDFC Bank | Key Insights - Screener', 'language': 'en'}, page_content='Tax %\\n            \\n          \\n31%\\n34%\\n33%\\n34%\\n35%\\n35%\\n35%\\n29%\\n26%\\n25%\\n25%\\n15%\\n\\n\\n\\n\\n\\n                Net Profit\\xa0+\\n\\n\\n6,903\\n8,768\\n10,703\\n12,821\\n15,317\\n18,561\\n22,446\\n27,296\\n31,857\\n38,151\\n46,149\\n65,446\\n70,231\\n\\n\\n\\n            \\n              EPS in Rs\\n            \\n          \\n14.44\\n18.22\\n21.32\\n25.32\\n29.81\\n35.66\\n41.00\\n49.70\\n57.74\\n68.62\\n82.44\\n84.33\\n89.75\\n\\n\\n\\n            \\n              Dividend Payout %\\n            \\n          \\n19%\\n19%\\n19%\\n19%\\n18%\\n18%\\n18%\\n5%\\n11%\\n23%\\n23%\\n23%\\n\\n\\n\\n\\n\\n\\n\\n\\nCompounded Sales Growth\\n\\n\\n10 Years:\\n21%\\n\\n\\n5 Years:\\n22%\\n\\n\\n3 Years:\\n30%\\n\\n\\nTTM:\\n70%\\n\\n\\n\\n\\nCompounded Profit Growth\\n\\n\\n10 Years:\\n22%\\n\\n\\n5 Years:\\n23%\\n\\n\\n3 Years:\\n26%\\n\\n\\nTTM:\\n40%\\n\\n\\n\\n\\nStock Price CAGR\\n\\n\\n10 Years:\\n14%\\n\\n\\n5 Years:\\n7%\\n\\n\\n3 Years:\\n0%\\n\\n\\n1 Year:\\n10%\\n\\n\\n\\n\\nReturn on Equity\\n\\n\\n10 Years:\\n17%\\n\\n\\n5 Years:\\n17%\\n\\n\\n3 Years:\\n17%\\n\\n\\nLast Year:\\n17%\\n\\n\\n\\n\\n\\n\\n\\nBalance Sheet\\n\\n      \\n        Consolidated Figures in Rs. Crores\\n        /\\n        View Standalone\\n\\n\\n\\nCorporate actions'),\n",
       " Document(metadata={'source': 'https://www.screener.in/company/HDFCBANK/consolidated/', 'title': 'HDFC Bank Ltd share price | About HDFC Bank | Key Insights - Screener', 'language': 'en'}, page_content='Compounded Sales Growth\\n\\n\\n10 Years:\\n21%\\n\\n\\n5 Years:\\n22%\\n\\n\\n3 Years:\\n30%\\n\\n\\nTTM:\\n70%\\n\\n\\n\\n\\nCompounded Profit Growth\\n\\n\\n10 Years:\\n22%\\n\\n\\n5 Years:\\n23%\\n\\n\\n3 Years:\\n26%\\n\\n\\nTTM:\\n40%\\n\\n\\n\\n\\nStock Price CAGR\\n\\n\\n10 Years:\\n14%\\n\\n\\n5 Years:\\n7%\\n\\n\\n3 Years:\\n0%\\n\\n\\n1 Year:\\n10%\\n\\n\\n\\n\\nReturn on Equity\\n\\n\\n10 Years:\\n17%\\n\\n\\n5 Years:\\n17%\\n\\n\\n3 Years:\\n17%\\n\\n\\nLast Year:\\n17%\\n\\n\\n\\n\\n\\n\\n\\nBalance Sheet\\n\\n      \\n        Consolidated Figures in Rs. Crores\\n        /\\n        View Standalone\\n\\n\\n\\nCorporate actions\\n\\n\\n\\n\\n\\n\\n\\nMar 2013\\nMar 2014\\nMar 2015\\nMar 2016\\nMar 2017\\nMar 2018\\nMar 2019\\nMar 2020\\nMar 2021\\nMar 2022\\nMar 2023\\nMar 2024\\n\\n\\n\\n\\n\\n            \\n              Equity Capital\\n            \\n          \\n476\\n480\\n501\\n506\\n513\\n519\\n545\\n548\\n551\\n555\\n558\\n760\\n\\n\\n\\n            \\n              Reserves\\n            \\n          \\n36,167\\n43,687\\n62,653\\n73,798\\n91,281\\n109,080\\n153,128\\n175,810\\n209,259\\n246,772\\n288,880\\n455,636\\n\\n\\n\\n\\n                Borrowings\\xa0+\\n\\n\\n335,588\\n416,677\\n509,762\\n649,587\\n741,550\\n944,817\\n1,080,235\\n1,333,041\\n1,511,418\\n1,784,970\\n2,139,212\\n3,107,503'),\n",
       " Document(metadata={'source': 'https://www.screener.in/company/HDFCBANK/consolidated/', 'title': 'HDFC Bank Ltd share price | About HDFC Bank | Key Insights - Screener', 'language': 'en'}, page_content='Equity Capital\\n            \\n          \\n476\\n480\\n501\\n506\\n513\\n519\\n545\\n548\\n551\\n555\\n558\\n760\\n\\n\\n\\n            \\n              Reserves\\n            \\n          \\n36,167\\n43,687\\n62,653\\n73,798\\n91,281\\n109,080\\n153,128\\n175,810\\n209,259\\n246,772\\n288,880\\n455,636\\n\\n\\n\\n\\n                Borrowings\\xa0+\\n\\n\\n335,588\\n416,677\\n509,762\\n649,587\\n741,550\\n944,817\\n1,080,235\\n1,333,041\\n1,511,418\\n1,784,970\\n2,139,212\\n3,107,503\\n\\n\\n\\n\\n                Other Liabilities\\xa0+\\n\\n\\n35,492\\n42,776\\n34,181\\n38,321\\n59,000\\n48,770\\n58,898\\n71,430\\n78,279\\n90,639\\n101,783\\n466,296\\n\\n\\n\\n            \\n              Total Liabilities\\n            \\n          \\n407,723\\n503,620\\n607,097\\n762,212\\n892,344\\n1,103,186\\n1,292,806\\n1,580,830\\n1,799,507\\n2,122,934\\n2,530,432\\n4,030,194\\n\\n\\n\\n\\n                Fixed Assets\\xa0+\\n\\n\\n2,773\\n3,026\\n3,225\\n3,667\\n4,000\\n4,008\\n4,369\\n4,776\\n5,248\\n6,432\\n8,431\\n12,604\\n\\n\\n\\n            \\n              CWIP\\n            \\n          \\n0\\n0\\n0\\n0\\n0\\n0\\n0\\n0\\n0\\n0\\n0\\n0'),\n",
       " Document(metadata={'source': 'https://www.screener.in/company/HDFCBANK/consolidated/', 'title': 'HDFC Bank Ltd share price | About HDFC Bank | Key Insights - Screener', 'language': 'en'}, page_content='35,492\\n42,776\\n34,181\\n38,321\\n59,000\\n48,770\\n58,898\\n71,430\\n78,279\\n90,639\\n101,783\\n466,296\\n\\n\\n\\n            \\n              Total Liabilities\\n            \\n          \\n407,723\\n503,620\\n607,097\\n762,212\\n892,344\\n1,103,186\\n1,292,806\\n1,580,830\\n1,799,507\\n2,122,934\\n2,530,432\\n4,030,194\\n\\n\\n\\n\\n                Fixed Assets\\xa0+\\n\\n\\n2,773\\n3,026\\n3,225\\n3,667\\n4,000\\n4,008\\n4,369\\n4,776\\n5,248\\n6,432\\n8,431\\n12,604\\n\\n\\n\\n            \\n              CWIP\\n            \\n          \\n0\\n0\\n0\\n0\\n0\\n0\\n0\\n0\\n0\\n0\\n0\\n0\\n\\n\\n\\n            \\n              Investments\\n            \\n          \\n110,960\\n119,571\\n149,454\\n193,634\\n210,777\\n238,461\\n289,446\\n389,305\\n438,823\\n449,264\\n511,582\\n1,005,682\\n\\n\\n\\n\\n                Other Assets\\xa0+\\n\\n\\n293,989\\n381,023\\n454,417\\n564,912\\n677,567\\n860,717\\n998,991\\n1,186,750\\n1,355,435\\n1,667,238\\n2,010,419\\n3,011,909\\n\\n\\n\\n            \\n              Total Assets\\n            \\n          \\n407,723\\n503,620\\n607,097\\n762,212\\n892,344\\n1,103,186\\n1,292,806\\n1,580,830\\n1,799,507\\n2,122,934\\n2,530,432\\n4,030,194\\n\\n\\n\\n\\n\\n\\n\\n\\nCash Flows'),\n",
       " Document(metadata={'source': 'https://www.screener.in/company/HDFCBANK/consolidated/', 'title': 'HDFC Bank Ltd share price | About HDFC Bank | Key Insights - Screener', 'language': 'en'}, page_content='Other Assets\\xa0+\\n\\n\\n293,989\\n381,023\\n454,417\\n564,912\\n677,567\\n860,717\\n998,991\\n1,186,750\\n1,355,435\\n1,667,238\\n2,010,419\\n3,011,909\\n\\n\\n\\n            \\n              Total Assets\\n            \\n          \\n407,723\\n503,620\\n607,097\\n762,212\\n892,344\\n1,103,186\\n1,292,806\\n1,580,830\\n1,799,507\\n2,122,934\\n2,530,432\\n4,030,194\\n\\n\\n\\n\\n\\n\\n\\n\\nCash Flows\\n\\n      \\n        Consolidated Figures in Rs. Crores\\n        /\\n        View Standalone\\n\\n\\n\\n\\n\\n\\n\\n\\n\\n\\nMar 2013\\nMar 2014\\nMar 2015\\nMar 2016\\nMar 2017\\nMar 2018\\nMar 2019\\nMar 2020\\nMar 2021\\nMar 2022\\nMar 2023\\nMar 2024\\n\\n\\n\\n\\n\\n\\n                Cash from Operating Activity\\xa0+\\n\\n\\n-5,847\\n4,211\\n-21,281\\n-34,435\\n17,282\\n17,214\\n-62,872\\n-16,869\\n42,476\\n-11,960\\n20,814\\n19,069\\n\\n\\n\\n\\n                Cash from Investing Activity\\xa0+\\n\\n\\n-902\\n-1,099\\n-800\\n-837\\n-1,146\\n-842\\n-1,503\\n-1,403\\n-1,823\\n-2,051\\n-2,992\\n16,600\\n\\n\\n\\n\\n                Cash from Financing Activity\\xa0+\\n\\n\\n13,105\\n9,270\\n18,694\\n37,815\\n-5,893\\n57,378\\n23,131\\n24,394\\n-7,321\\n48,124\\n23,941\\n-3,983'),\n",
       " Document(metadata={'source': 'https://www.screener.in/company/HDFCBANK/consolidated/', 'title': 'HDFC Bank Ltd share price | About HDFC Bank | Key Insights - Screener', 'language': 'en'}, page_content='Cash from Operating Activity\\xa0+\\n\\n\\n-5,847\\n4,211\\n-21,281\\n-34,435\\n17,282\\n17,214\\n-62,872\\n-16,869\\n42,476\\n-11,960\\n20,814\\n19,069\\n\\n\\n\\n\\n                Cash from Investing Activity\\xa0+\\n\\n\\n-902\\n-1,099\\n-800\\n-837\\n-1,146\\n-842\\n-1,503\\n-1,403\\n-1,823\\n-2,051\\n-2,992\\n16,600\\n\\n\\n\\n\\n                Cash from Financing Activity\\xa0+\\n\\n\\n13,105\\n9,270\\n18,694\\n37,815\\n-5,893\\n57,378\\n23,131\\n24,394\\n-7,321\\n48,124\\n23,941\\n-3,983\\n\\n\\n\\n            \\n              Net Cash Flow\\n            \\n          \\n6,356\\n12,382\\n-3,387\\n2,542\\n10,242\\n73,750\\n-41,244\\n6,122\\n33,332\\n34,113\\n41,762\\n31,687\\n\\n\\n\\n\\n\\n\\n\\n\\nRatios\\n\\n      \\n        Consolidated Figures in Rs. Crores\\n        /\\n        View Standalone\\n\\n\\n\\n\\n\\n\\n\\n\\n\\n\\nMar 2013\\nMar 2014\\nMar 2015\\nMar 2016\\nMar 2017\\nMar 2018\\nMar 2019\\nMar 2020\\nMar 2021\\nMar 2022\\nMar 2023\\nMar 2024\\n\\n\\n\\n\\n\\n            \\n              ROE %\\n            \\n          \\n21%\\n22%\\n20%\\n19%\\n18%\\n18%\\n17%\\n16%\\n16%\\n17%\\n17%\\n17%\\n\\n\\n\\n\\n\\n\\n\\n\\nShareholding Pattern\\nNumbers in percentages\\n\\n\\n\\n\\n        Quarterly\\n      \\n\\n        Yearly'),\n",
       " Document(metadata={'source': 'https://www.screener.in/company/HDFCBANK/consolidated/', 'title': 'HDFC Bank Ltd share price | About HDFC Bank | Key Insights - Screener', 'language': 'en'}, page_content='Ratios\\n\\n      \\n        Consolidated Figures in Rs. Crores\\n        /\\n        View Standalone\\n\\n\\n\\n\\n\\n\\n\\n\\n\\n\\nMar 2013\\nMar 2014\\nMar 2015\\nMar 2016\\nMar 2017\\nMar 2018\\nMar 2019\\nMar 2020\\nMar 2021\\nMar 2022\\nMar 2023\\nMar 2024\\n\\n\\n\\n\\n\\n            \\n              ROE %\\n            \\n          \\n21%\\n22%\\n20%\\n19%\\n18%\\n18%\\n17%\\n16%\\n16%\\n17%\\n17%\\n17%\\n\\n\\n\\n\\n\\n\\n\\n\\nShareholding Pattern\\nNumbers in percentages\\n\\n\\n\\n\\n        Quarterly\\n      \\n\\n        Yearly\\n      \\n\\n\\n\\n        Trades\\n      \\n\\n          57 Recently\\n        \\n\\n\\n\\n\\n\\n\\n\\n\\n\\nDec 2021Mar 2022Jun 2022Sep 2022Dec 2022Mar 2023Jun 2023Sep 2023Dec 2023Mar 2024Jun 2024Sep 2024\\n\\n\\n\\n\\n\\n\\n                Promoters\\xa0+\\n\\n\\n25.80%\\n25.78%\\n25.73%\\n25.64%\\n25.60%\\n25.59%\\n25.52%\\n0.00%\\n0.00%\\n0.00%\\n0.00%\\n0.00%\\n\\n\\n\\n\\n                FIIs\\xa0+\\n\\n\\n37.47%\\n35.62%\\n32.31%\\n32.14%\\n32.10%\\n32.24%\\n33.38%\\n52.13%\\n52.31%\\n47.83%\\n47.17%\\n48.02%\\n\\n\\n\\n\\n                DIIs\\xa0+\\n\\n\\n22.97%\\n24.55%\\n27.11%\\n27.53%\\n28.13%\\n28.09%\\n26.75%\\n30.39%\\n30.54%\\n33.33%\\n35.20%\\n35.05%\\n\\n\\n\\n\\n                Government\\xa0+'),\n",
       " Document(metadata={'source': 'https://www.screener.in/company/HDFCBANK/consolidated/', 'title': 'HDFC Bank Ltd share price | About HDFC Bank | Key Insights - Screener', 'language': 'en'}, page_content='Dec 2021Mar 2022Jun 2022Sep 2022Dec 2022Mar 2023Jun 2023Sep 2023Dec 2023Mar 2024Jun 2024Sep 2024\\n\\n\\n\\n\\n\\n\\n                Promoters\\xa0+\\n\\n\\n25.80%\\n25.78%\\n25.73%\\n25.64%\\n25.60%\\n25.59%\\n25.52%\\n0.00%\\n0.00%\\n0.00%\\n0.00%\\n0.00%\\n\\n\\n\\n\\n                FIIs\\xa0+\\n\\n\\n37.47%\\n35.62%\\n32.31%\\n32.14%\\n32.10%\\n32.24%\\n33.38%\\n52.13%\\n52.31%\\n47.83%\\n47.17%\\n48.02%\\n\\n\\n\\n\\n                DIIs\\xa0+\\n\\n\\n22.97%\\n24.55%\\n27.11%\\n27.53%\\n28.13%\\n28.09%\\n26.75%\\n30.39%\\n30.54%\\n33.33%\\n35.20%\\n35.05%\\n\\n\\n\\n\\n                Government\\xa0+\\n\\n\\n0.16%\\n0.16%\\n0.16%\\n0.16%\\n0.16%\\n0.16%\\n0.16%\\n0.17%\\n0.17%\\n0.18%\\n0.18%\\n0.18%\\n\\n\\n\\n\\n                Public\\xa0+\\n\\n\\n13.60%\\n13.89%\\n14.69%\\n14.51%\\n13.99%\\n13.91%\\n14.19%\\n17.30%\\n16.98%\\n18.64%\\n17.44%\\n16.75%\\n\\n\\nNo. of Shareholders\\n18,88,27621,51,63026,60,57725,20,91123,03,29122,90,09223,45,67230,58,65930,18,24741,21,81536,64,32539,21,910\\n\\n\\n\\n\\n\\n\\n\\n\\n\\n\\n\\nMar 2017Mar 2018Mar 2019Mar 2020Mar 2021Mar 2022Mar 2023Mar 2024Sep 2024\\n\\n\\n\\n\\n\\n\\n                Promoters\\xa0+\\n\\n\\n26.00%\\n25.60%\\n26.50%\\n26.14%\\n25.97%\\n25.78%\\n25.59%\\n0.00%\\n0.00%'),\n",
       " Document(metadata={'source': 'https://www.screener.in/company/HDFCBANK/consolidated/', 'title': 'HDFC Bank Ltd share price | About HDFC Bank | Key Insights - Screener', 'language': 'en'}, page_content=\"Public\\xa0+\\n\\n\\n13.60%\\n13.89%\\n14.69%\\n14.51%\\n13.99%\\n13.91%\\n14.19%\\n17.30%\\n16.98%\\n18.64%\\n17.44%\\n16.75%\\n\\n\\nNo. of Shareholders\\n18,88,27621,51,63026,60,57725,20,91123,03,29122,90,09223,45,67230,58,65930,18,24741,21,81536,64,32539,21,910\\n\\n\\n\\n\\n\\n\\n\\n\\n\\n\\n\\nMar 2017Mar 2018Mar 2019Mar 2020Mar 2021Mar 2022Mar 2023Mar 2024Sep 2024\\n\\n\\n\\n\\n\\n\\n                Promoters\\xa0+\\n\\n\\n26.00%\\n25.60%\\n26.50%\\n26.14%\\n25.97%\\n25.78%\\n25.59%\\n0.00%\\n0.00%\\n\\n\\n\\n\\n                FIIs\\xa0+\\n\\n\\n42.13%\\n40.43%\\n38.71%\\n36.68%\\n39.79%\\n35.62%\\n32.24%\\n47.83%\\n48.02%\\n\\n\\n\\n\\n                DIIs\\xa0+\\n\\n\\n12.94%\\n14.97%\\n16.41%\\n21.74%\\n20.99%\\n24.55%\\n28.09%\\n33.33%\\n35.05%\\n\\n\\n\\n\\n                Government\\xa0+\\n\\n\\n0.13%\\n0.13%\\n0.20%\\n0.23%\\n0.24%\\n0.16%\\n0.16%\\n0.18%\\n0.18%\\n\\n\\n\\n\\n                Public\\xa0+\\n\\n\\n18.80%\\n18.87%\\n18.19%\\n15.21%\\n13.01%\\n13.89%\\n13.91%\\n18.64%\\n16.75%\\n\\n\\nNo. of Shareholders\\n4,63,5685,10,3775,89,93012,86,08313,75,29421,51,63022,90,09241,21,81539,21,910\\n\\n\\n\\n\\n\\n\\n  * The classifications might have changed from Sep'2022 onwards.\"),\n",
       " Document(metadata={'source': 'https://www.screener.in/company/HDFCBANK/consolidated/', 'title': 'HDFC Bank Ltd share price | About HDFC Bank | Key Insights - Screener', 'language': 'en'}, page_content=\"DIIs\\xa0+\\n\\n\\n12.94%\\n14.97%\\n16.41%\\n21.74%\\n20.99%\\n24.55%\\n28.09%\\n33.33%\\n35.05%\\n\\n\\n\\n\\n                Government\\xa0+\\n\\n\\n0.13%\\n0.13%\\n0.20%\\n0.23%\\n0.24%\\n0.16%\\n0.16%\\n0.18%\\n0.18%\\n\\n\\n\\n\\n                Public\\xa0+\\n\\n\\n18.80%\\n18.87%\\n18.19%\\n15.21%\\n13.01%\\n13.89%\\n13.91%\\n18.64%\\n16.75%\\n\\n\\nNo. of Shareholders\\n4,63,5685,10,3775,89,93012,86,08313,75,29421,51,63022,90,09241,21,81539,21,910\\n\\n\\n\\n\\n\\n\\n  * The classifications might have changed from Sep'2022 onwards.\\n  \\n\\n\\n      The new XBRL format added more details from Sep'22 onwards.\\n      \\n\\n      Classifications such as banks and foreign portfolio investors were not available earlier. The sudden changes in FII or DII can be because of these changes.\\n      \\n\\n      Click on the line-items to see the names of individual entities.\\n    \\n\\n\\n\\n\\n\\nDocuments\\n\\n\\n\\nAnnouncements\\n\\n\\n\\n\\n\\n      Recent\\n    \\n\\n      Important\\n    \\n\\n      Search\\n    \\n\\n      All\\n      \\n\\n\\n\\n\\n\\n\\n          Announcement under Regulation 30 (LODR)-Analyst / Investor Meet - Intimation\"),\n",
       " Document(metadata={'source': 'https://www.screener.in/company/HDFCBANK/consolidated/', 'title': 'HDFC Bank Ltd share price | About HDFC Bank | Key Insights - Screener', 'language': 'en'}, page_content=\"Classifications such as banks and foreign portfolio investors were not available earlier. The sudden changes in FII or DII can be because of these changes.\\n      \\n\\n      Click on the line-items to see the names of individual entities.\\n    \\n\\n\\n\\n\\n\\nDocuments\\n\\n\\n\\nAnnouncements\\n\\n\\n\\n\\n\\n      Recent\\n    \\n\\n      Important\\n    \\n\\n      Search\\n    \\n\\n      All\\n      \\n\\n\\n\\n\\n\\n\\n          Announcement under Regulation 30 (LODR)-Analyst / Investor Meet - Intimation\\n\\n          \\n            1d - Earnings call for the unaudited financial results for the quarter and half year ended September 30, 2024\\n\\n\\n\\n\\n          Compliances-Reg. 39 (3) - Details of Loss of Certificate / Duplicate Certificate\\n\\n          \\n            8 Oct - Notice for loss/misplacement of share certificates.\\n\\n\\n\\n\\n          Intimation Under Regulation 30 Of The SEBI (LODR) Regulations, 2015 - Sale Of Shares Of HDFC Education And Development Services Private Limited ('HDFC Edu') By HDFC Bank Limited\"),\n",
       " Document(metadata={'source': 'https://www.screener.in/company/HDFCBANK/consolidated/', 'title': 'HDFC Bank Ltd share price | About HDFC Bank | Key Insights - Screener', 'language': 'en'}, page_content=\"Compliances-Reg. 39 (3) - Details of Loss of Certificate / Duplicate Certificate\\n\\n          \\n            8 Oct - Notice for loss/misplacement of share certificates.\\n\\n\\n\\n\\n          Intimation Under Regulation 30 Of The SEBI (LODR) Regulations, 2015 - Sale Of Shares Of HDFC Education And Development Services Private Limited ('HDFC Edu') By HDFC Bank Limited\\n\\n          \\n            7 Oct - HDFC Bank sells 100% stake in HDFC Edu.\\n\\n\\n\\n\\n          Intimation Under SEBI (LODR) Regulations, 2015\\n\\n          \\n            4 Oct - HDFC Bank reports growth in advances and deposits for Q2 2024.\\n\\n\\n\\n\\n          Announcement under Regulation 30 (LODR)-Acquisition\\n\\n          \\n            1 Oct - Incorporation of HDFC Securities IFSC Limited as a subsidiary.\\n\\n\\n\\n\\n\\n\\n\\nAnnual reports\\n\\n\\n\\n\\n      Financial Year 2024\\n      \\n        from bse\\n      \\n\\n\\n\\n\\n      Financial Year 2023\\n      \\n        from bse\\n      \\n\\n\\n\\n\\n      Financial Year 2022\\n      \\n        from bse\"),\n",
       " Document(metadata={'source': 'https://www.screener.in/company/HDFCBANK/consolidated/', 'title': 'HDFC Bank Ltd share price | About HDFC Bank | Key Insights - Screener', 'language': 'en'}, page_content='4 Oct - HDFC Bank reports growth in advances and deposits for Q2 2024.\\n\\n\\n\\n\\n          Announcement under Regulation 30 (LODR)-Acquisition\\n\\n          \\n            1 Oct - Incorporation of HDFC Securities IFSC Limited as a subsidiary.\\n\\n\\n\\n\\n\\n\\n\\nAnnual reports\\n\\n\\n\\n\\n      Financial Year 2024\\n      \\n        from bse\\n      \\n\\n\\n\\n\\n      Financial Year 2023\\n      \\n        from bse\\n      \\n\\n\\n\\n\\n      Financial Year 2022\\n      \\n        from bse\\n      \\n\\n\\n\\n\\n      Financial Year 2021\\n      \\n        from bse\\n      \\n\\n\\n\\n\\n      Financial Year 2020\\n      \\n        from bse\\n      \\n\\n\\n\\n\\n      Financial Year 2019\\n      \\n        from bse\\n      \\n\\n\\n\\n\\n      Financial Year 2018\\n      \\n        from bse\\n      \\n\\n\\n\\n\\n      Financial Year 2017\\n      \\n        from bse\\n      \\n\\n\\n\\n\\n      Financial Year 2016\\n      \\n        from bse\\n      \\n\\n\\n\\n\\n      Financial Year 2015\\n      \\n        from bse\\n      \\n\\n\\n\\n\\n      Financial Year 2014\\n      \\n        from bse'),\n",
       " Document(metadata={'source': 'https://www.screener.in/company/HDFCBANK/consolidated/', 'title': 'HDFC Bank Ltd share price | About HDFC Bank | Key Insights - Screener', 'language': 'en'}, page_content='Financial Year 2021\\n      \\n        from bse\\n      \\n\\n\\n\\n\\n      Financial Year 2020\\n      \\n        from bse\\n      \\n\\n\\n\\n\\n      Financial Year 2019\\n      \\n        from bse\\n      \\n\\n\\n\\n\\n      Financial Year 2018\\n      \\n        from bse\\n      \\n\\n\\n\\n\\n      Financial Year 2017\\n      \\n        from bse\\n      \\n\\n\\n\\n\\n      Financial Year 2016\\n      \\n        from bse\\n      \\n\\n\\n\\n\\n      Financial Year 2015\\n      \\n        from bse\\n      \\n\\n\\n\\n\\n      Financial Year 2014\\n      \\n        from bse\\n      \\n\\n\\n\\n\\n      Financial Year 2013\\n      \\n        from bse\\n      \\n\\n\\n\\n\\n      Financial Year 2012\\n      \\n        from bse\\n      \\n\\n\\n\\n\\n      Financial Year 2012\\n      \\n        from nse\\n      \\n\\n\\n\\n\\n      Financial Year 2011\\n      \\n        from bse\\n      \\n\\n\\n\\n\\n\\n\\nCredit ratings\\n\\n\\n\\n\\n      Rating update\\n      \\n        1 Jul from icra\\n      \\n\\n\\n\\n\\n      Rating update\\n      \\n        28 Jun from crisil\\n      \\n\\n\\n\\n\\n      Rating update\\n      \\n        7 Mar from care'),\n",
       " Document(metadata={'source': 'https://www.screener.in/company/HDFCBANK/consolidated/', 'title': 'HDFC Bank Ltd share price | About HDFC Bank | Key Insights - Screener', 'language': 'en'}, page_content='Financial Year 2013\\n      \\n        from bse\\n      \\n\\n\\n\\n\\n      Financial Year 2012\\n      \\n        from bse\\n      \\n\\n\\n\\n\\n      Financial Year 2012\\n      \\n        from nse\\n      \\n\\n\\n\\n\\n      Financial Year 2011\\n      \\n        from bse\\n      \\n\\n\\n\\n\\n\\n\\nCredit ratings\\n\\n\\n\\n\\n      Rating update\\n      \\n        1 Jul from icra\\n      \\n\\n\\n\\n\\n      Rating update\\n      \\n        28 Jun from crisil\\n      \\n\\n\\n\\n\\n      Rating update\\n      \\n        7 Mar from care\\n      \\n\\n\\n\\n\\n      Rating update\\n      \\n        5 Dec 2023 from fitch\\n      \\n\\n\\n\\n\\n      Rating update\\n      \\n        13 Nov 2023 from care\\n      \\n\\n\\n\\n\\n      Rating update\\n      \\n        5 Jul 2023 from icra\\n      \\n\\n\\n\\n\\n\\n\\n\\nConcalls\\n\\n\\nAdd Missing\\n\\n\\n\\n\\n\\n      Jul 2024\\n    \\n\\n      Transcript\\n    \\n\\n      Notes\\n    \\n\\n      PPT\\n    \\n\\n      REC\\n    \\n\\n\\n\\n      Jul 2024\\n    \\nTranscript\\nNotes\\n\\n      PPT\\n    \\n\\n\\n\\n      Apr 2024\\n    \\n\\n      Transcript\\n    \\n\\n      Notes\\n    \\n\\n      PPT\\n    \\n\\n      REC\\n    \\n\\n\\n\\n      Mar 2024\\n    \\nTranscript\\nNotes\\n\\n      PPT'),\n",
       " Document(metadata={'source': 'https://www.screener.in/company/HDFCBANK/consolidated/', 'title': 'HDFC Bank Ltd share price | About HDFC Bank | Key Insights - Screener', 'language': 'en'}, page_content='Rating update\\n      \\n        13 Nov 2023 from care\\n      \\n\\n\\n\\n\\n      Rating update\\n      \\n        5 Jul 2023 from icra\\n      \\n\\n\\n\\n\\n\\n\\n\\nConcalls\\n\\n\\nAdd Missing\\n\\n\\n\\n\\n\\n      Jul 2024\\n    \\n\\n      Transcript\\n    \\n\\n      Notes\\n    \\n\\n      PPT\\n    \\n\\n      REC\\n    \\n\\n\\n\\n      Jul 2024\\n    \\nTranscript\\nNotes\\n\\n      PPT\\n    \\n\\n\\n\\n      Apr 2024\\n    \\n\\n      Transcript\\n    \\n\\n      Notes\\n    \\n\\n      PPT\\n    \\n\\n      REC\\n    \\n\\n\\n\\n      Mar 2024\\n    \\nTranscript\\nNotes\\n\\n      PPT\\n    \\n\\n\\n\\n      Feb 2024\\n    \\n\\n      Transcript\\n    \\n\\n      Notes\\n    \\n\\n      PPT\\n    \\n\\n\\n\\n      Jan 2024\\n    \\n\\n      Transcript\\n    \\n\\n      Notes\\n    \\n\\n      PPT\\n    \\n\\n      REC\\n    \\n\\n\\n\\n      Oct 2023\\n    \\nTranscript\\nNotes\\n\\n      PPT\\n    \\n\\n      REC\\n    \\n\\n\\n\\n      Oct 2023\\n    \\n\\n      Transcript\\n    \\n\\n      Notes\\n    \\n\\n      PPT\\n    \\n\\n      REC\\n    \\n\\n\\n\\n      Oct 2023\\n    \\n\\n      Transcript\\n    \\n\\n      Notes\\n    \\n\\n      PPT\\n    \\n\\n      REC\\n    \\n\\n\\n\\n      Sep 2023\\n    \\nTranscript\\nNotes\\n\\n      PPT\\n    \\n\\n\\n\\n      Jul 2023'),\n",
       " Document(metadata={'source': 'https://www.screener.in/company/HDFCBANK/consolidated/', 'title': 'HDFC Bank Ltd share price | About HDFC Bank | Key Insights - Screener', 'language': 'en'}, page_content='Transcript\\n    \\n\\n      Notes\\n    \\n\\n      PPT\\n    \\n\\n\\n\\n      Jan 2024\\n    \\n\\n      Transcript\\n    \\n\\n      Notes\\n    \\n\\n      PPT\\n    \\n\\n      REC\\n    \\n\\n\\n\\n      Oct 2023\\n    \\nTranscript\\nNotes\\n\\n      PPT\\n    \\n\\n      REC\\n    \\n\\n\\n\\n      Oct 2023\\n    \\n\\n      Transcript\\n    \\n\\n      Notes\\n    \\n\\n      PPT\\n    \\n\\n      REC\\n    \\n\\n\\n\\n      Oct 2023\\n    \\n\\n      Transcript\\n    \\n\\n      Notes\\n    \\n\\n      PPT\\n    \\n\\n      REC\\n    \\n\\n\\n\\n      Sep 2023\\n    \\nTranscript\\nNotes\\n\\n      PPT\\n    \\n\\n\\n\\n      Jul 2023\\n    \\n\\n      Transcript\\n    \\n\\n      Notes\\n    \\n\\n      PPT\\n    \\n\\n      REC\\n    \\n\\n\\n\\n      Apr 2023\\n    \\n\\n      Transcript\\n    \\n\\n      Notes\\n    \\n\\n      PPT\\n    \\n\\n\\n\\n      Jan 2023\\n    \\n\\n      Transcript\\n    \\n\\n      Notes\\n    \\nPPT\\n\\n\\n\\n      Jul 2022\\n    \\n\\n      Transcript\\n    \\n\\n      Notes\\n    \\nPPT\\n\\n\\n\\n      Apr 2022\\n    \\n\\n      Transcript\\n    \\n\\n      Notes\\n    \\n\\n      PPT\\n    \\n\\n\\n\\n      Apr 2022\\n    \\nTranscript\\nNotes\\n\\n      PPT\\n    \\n\\n\\n\\n      May 2018\\n    \\nTranscript\\nNotes\\n\\n      PPT'),\n",
       " Document(metadata={'source': 'https://www.screener.in/company/HDFCBANK/consolidated/', 'title': 'HDFC Bank Ltd share price | About HDFC Bank | Key Insights - Screener', 'language': 'en'}, page_content=\"Transcript\\n    \\n\\n      Notes\\n    \\n\\n      PPT\\n    \\n\\n      REC\\n    \\n\\n\\n\\n      Apr 2023\\n    \\n\\n      Transcript\\n    \\n\\n      Notes\\n    \\n\\n      PPT\\n    \\n\\n\\n\\n      Jan 2023\\n    \\n\\n      Transcript\\n    \\n\\n      Notes\\n    \\nPPT\\n\\n\\n\\n      Jul 2022\\n    \\n\\n      Transcript\\n    \\n\\n      Notes\\n    \\nPPT\\n\\n\\n\\n      Apr 2022\\n    \\n\\n      Transcript\\n    \\n\\n      Notes\\n    \\n\\n      PPT\\n    \\n\\n\\n\\n      Apr 2022\\n    \\nTranscript\\nNotes\\n\\n      PPT\\n    \\n\\n\\n\\n      May 2018\\n    \\nTranscript\\nNotes\\n\\n      PPT\\n    \\n\\n\\n\\n\\n\\n\\n\\n\\n\\n\\n\\n\\n\\n\\n\\nStock analysis and screening tool\\n\\n        Mittal Analytics Private Ltd © 2009-2024\\n        \\n        Made with  in India.\\n      \\nData provided by C-MOTS Internet Technologies Pvt Ltd\\n\\nTerms & Privacy.\\n      \\n\\n\\n\\nProduct\\n\\n\\nPremium\\n\\n\\nWhat's new?\\n\\n\\nLearn\\n\\n\\n\\n\\n              Install\\n            \\n\\n\\n\\n\\nTeam\\n\\n\\nAbout us\\n\\n\\nSupport\\n\\n\\n\\n\\nTheme\\n\\n\\n\\n\\n              Light\\n            \\n\\n\\n\\n\\n              Dark\\n            \\n\\n\\n\\n\\n              Auto\"),\n",
       " Document(metadata={'source': 'https://www.screener.in/company/HDFCBANK/consolidated/', 'title': 'HDFC Bank Ltd share price | About HDFC Bank | Key Insights - Screener', 'language': 'en'}, page_content=\"PPT\\n    \\n\\n\\n\\n\\n\\n\\n\\n\\n\\n\\n\\n\\n\\n\\n\\nStock analysis and screening tool\\n\\n        Mittal Analytics Private Ltd © 2009-2024\\n        \\n        Made with  in India.\\n      \\nData provided by C-MOTS Internet Technologies Pvt Ltd\\n\\nTerms & Privacy.\\n      \\n\\n\\n\\nProduct\\n\\n\\nPremium\\n\\n\\nWhat's new?\\n\\n\\nLearn\\n\\n\\n\\n\\n              Install\\n            \\n\\n\\n\\n\\nTeam\\n\\n\\nAbout us\\n\\n\\nSupport\\n\\n\\n\\n\\nTheme\\n\\n\\n\\n\\n              Light\\n            \\n\\n\\n\\n\\n              Dark\\n            \\n\\n\\n\\n\\n              Auto\\n            \\n\\n\\n\\n\\n\\n\\nMittal Analytics Private Ltd © 2009-2024\\nData provided by C-MOTS Internet Technologies Pvt Ltd\\n\\nTerms\\n        & Privacy.\")]"
      ]
     },
     "execution_count": 24,
     "metadata": {},
     "output_type": "execute_result"
    }
   ],
   "source": [
    "text"
   ]
  },
  {
   "cell_type": "code",
   "execution_count": null,
   "metadata": {},
   "outputs": [],
   "source": []
  },
  {
   "cell_type": "markdown",
   "metadata": {},
   "source": [
    "#### Vectorization of the chunks\n",
    "\n",
    "Creating embeddings"
   ]
  },
  {
   "cell_type": "code",
   "execution_count": 25,
   "metadata": {},
   "outputs": [],
   "source": [
    "from langchain_huggingface import HuggingFaceEmbeddings\n",
    "embeddings = HuggingFaceEmbeddings(model_name = \"all-MiniLM-L6-v2\")"
   ]
  },
  {
   "cell_type": "code",
   "execution_count": 26,
   "metadata": {},
   "outputs": [],
   "source": [
    "from langchain_community.vectorstores import FAISS\n",
    "\n",
    "vectordb = FAISS.from_documents(text,embeddings)"
   ]
  },
  {
   "cell_type": "code",
   "execution_count": null,
   "metadata": {},
   "outputs": [],
   "source": []
  },
  {
   "cell_type": "markdown",
   "metadata": {},
   "source": [
    "#### Querying"
   ]
  },
  {
   "cell_type": "code",
   "execution_count": 27,
   "metadata": {},
   "outputs": [
    {
     "data": {
      "text/plain": [
       "[Document(metadata={'source': 'https://www.screener.in/company/HDFCBANK/consolidated/', 'title': 'HDFC Bank Ltd share price | About HDFC Bank | Key Insights - Screener', 'language': 'en'}, page_content=\"Pros\\n\\nCompany is expected to give good quarterCompany has delivered good profit growth of 23.4% CAGR over last 5 yearsCompany has been maintaining a healthy dividend payout of 22.9%Company's median sales growth is 16.4% of last 10 years\\n\\n\\n\\nCons\\n\\nStock is trading at 2.83 times its book valueCompany has low interest coverage ratio.Contingent liabilities of Rs.24,09,821 Cr.Earnings include an other income of Rs.1,49,943 Cr.\\n\\n\\n\\n\\n*\\nThe pros and cons are machine generated.\\n\\n\\n\\n            Pros / cons are based on a checklist to highlight important points. Please exercise caution and do your own analysis.\\n          \\n\\n\\n\\n\\n\\n\\nPeer comparison\\n\\n              Sector:\\n              Banks\\n\\n              Industry:\\n              \\n                Banks - Private Sector\\n              \\n\\n\\n\\n\\n\\nEdit\\n            Columns\\n          \\n\\n\\nLoading peers table ...\\n\\nDetailed Comparison with:\\n\\n\\n\\n\\n\\n\\n\\n\\nQuarterly Results\"),\n",
       " Document(metadata={'source': 'https://www.screener.in/company/HDFCBANK/consolidated/', 'title': 'HDFC Bank Ltd share price | About HDFC Bank | Key Insights - Screener', 'language': 'en'}, page_content='Detailed Comparison with:\\n\\n\\n\\n\\n\\n\\n\\n\\nQuarterly Results\\n\\n      \\n        Consolidated Figures in Rs. Crores\\n        /\\n        View Standalone\\n\\n\\n\\n\\n\\n        Close Segments\\n      \\n\\n\\n          Product Segments\\n        \\n\\n\\n\\n\\n\\n\\n\\n\\nJun 2021\\nSep 2021\\nDec 2021\\nMar 2022\\nJun 2022\\nSep 2022\\nDec 2022\\nMar 2023\\nJun 2023\\nSep 2023\\nDec 2023\\nMar 2024\\nJun 2024\\n\\n\\n\\n\\n\\n            \\n              Revenue\\n            \\n          \\n32,254\\n33,520\\n34,588\\n35,574\\n37,274\\n40,930\\n45,002\\n47,548\\n51,168\\n75,039\\n78,008\\n79,434\\n81,546\\n\\n\\n\\n            \\n              Interest\\n            \\n          \\n14,218\\n14,415\\n14,724\\n15,227\\n16,358\\n18,311\\n20,505\\n22,606\\n25,955\\n41,250\\n43,242\\n43,692\\n44,580\\n\\n\\n\\n\\n                Expenses\\xa0+\\n\\n\\n14,073\\n14,698\\n14,423\\n15,044\\n15,021\\n15,915\\n16,682\\n17,770\\n18,470\\n45,349\\n50,530\\n62,938\\n49,690\\n\\n\\n\\n            \\n              Financing Profit\\n            \\n          \\n3,962\\n4,408\\n5,441\\n5,304\\n5,895\\n6,704\\n7,815\\n7,172\\n6,744\\n-11,560\\n-15,764\\n-27,196\\n-12,723'),\n",
       " Document(metadata={'source': 'https://www.screener.in/company/HDFCBANK/consolidated/', 'title': 'HDFC Bank Ltd share price | About HDFC Bank | Key Insights - Screener', 'language': 'en'}, page_content='Raw PDF\\n\\n\\n\\n\\n\\n\\n\\n\\n\\n\\n\\n\\n\\n\\n\\n\\n\\n\\n\\n\\n\\n\\n\\n\\n\\n\\n\\n\\n\\n\\n\\n\\n\\n\\n\\n\\n\\n\\n\\n\\n\\n\\n\\n\\n\\n\\n\\n\\n\\n\\n\\n\\n\\n\\n\\n\\n\\n\\n\\n\\n\\n\\n\\n\\n\\n\\n\\n\\n\\n\\n\\n            Upcoming result date: 19 October 2024\\n\\n\\n\\n\\n\\n\\nProfit & Loss\\n\\n      \\n        Consolidated Figures in Rs. Crores\\n        /\\n        View Standalone\\n\\n\\n\\n\\n\\n        Related Party\\n      \\n\\n\\n        Close Segments\\n      \\n\\n\\n          Product Segments\\n        \\n\\n\\n\\n\\n\\n\\n\\n\\nMar 2013\\nMar 2014\\nMar 2015\\nMar 2016\\nMar 2017\\nMar 2018\\nMar 2019\\nMar 2020\\nMar 2021\\nMar 2022\\nMar 2023\\nMar 2024\\nTTM\\n\\n\\n\\n\\n\\n            \\n              Revenue\\n            \\n          \\n35,861\\n42,555\\n50,666\\n63,162\\n73,271\\n85,288\\n105,161\\n122,189\\n128,552\\n135,936\\n170,754\\n283,649\\n314,027\\n\\n\\n\\n            \\n              Interest\\n            \\n          \\n19,695\\n23,445\\n27,288\\n34,070\\n38,042\\n42,381\\n53,713\\n62,137\\n59,248\\n58,584\\n77,780\\n154,139\\n172,763\\n\\n\\n\\n\\n                Expenses\\xa0+\\n\\n\\n12,631\\n13,508\\n16,164\\n20,055\\n23,856\\n29,532\\n34,856\\n45,459\\n52,457\\n56,557\\n63,042\\n174,196\\n208,507'),\n",
       " Document(metadata={'source': 'https://www.screener.in/company/HDFCBANK/consolidated/', 'title': 'HDFC Bank Ltd share price | About HDFC Bank | Key Insights - Screener', 'language': 'en'}, page_content='*\\nThe pros and cons are machine generated.\\n\\n\\n\\n            Pros / cons are based on a checklist to highlight important points. Please exercise caution and do your own analysis.\\n          \\n\\n\\n\\n\\n\\n\\nPeer comparison\\n\\n              Sector:\\n              Banks\\n\\n              Industry:\\n              \\n                Banks - Private Sector\\n              \\n\\n\\n\\n\\n\\nEdit\\n            Columns\\n          \\n\\n\\nLoading peers table ...\\n\\nDetailed Comparison with:\\n\\n\\n\\n\\n\\n\\n\\n\\nQuarterly Results\\n\\n      \\n        Consolidated Figures in Rs. Crores\\n        /\\n        View Standalone\\n\\n\\n\\n\\n\\n        Close Segments\\n      \\n\\n\\n          Product Segments\\n        \\n\\n\\n\\n\\n\\n\\n\\n\\nJun 2021\\nSep 2021\\nDec 2021\\nMar 2022\\nJun 2022\\nSep 2022\\nDec 2022\\nMar 2023\\nJun 2023\\nSep 2023\\nDec 2023\\nMar 2024\\nJun 2024\\n\\n\\n\\n\\n\\n            \\n              Revenue\\n            \\n          \\n32,254\\n33,520\\n34,588\\n35,574\\n37,274\\n40,930\\n45,002\\n47,548\\n51,168\\n75,039\\n78,008\\n79,434\\n81,546')]"
      ]
     },
     "execution_count": 27,
     "metadata": {},
     "output_type": "execute_result"
    }
   ],
   "source": [
    "query = \"Quarterly Results\"\n",
    "\n",
    "result = vectordb.similarity_search(query)\n",
    "result"
   ]
  },
  {
   "cell_type": "code",
   "execution_count": null,
   "metadata": {},
   "outputs": [],
   "source": []
  },
  {
   "cell_type": "markdown",
   "metadata": {},
   "source": [
    "#### LLM"
   ]
  },
  {
   "cell_type": "code",
   "execution_count": 28,
   "metadata": {},
   "outputs": [
    {
     "name": "stdout",
     "output_type": "stream",
     "text": [
      "The token has not been saved to the git credentials helper. Pass `add_to_git_credential=True` in this function directly or `--add-to-git-credential` if using via `huggingface-cli` if you want to set the git credential as well.\n",
      "Token is valid (permission: read).\n",
      "Your token has been saved to C:\\Users\\ABHISHEK SHARMA\\.cache\\huggingface\\token\n",
      "Login successful\n"
     ]
    }
   ],
   "source": [
    "from langchain_huggingface import HuggingFaceEndpoint\n",
    "\n",
    "llm = HuggingFaceEndpoint(\n",
    "    repo_id=\"meta-llama/Llama-3.2-11B-Vision-Instruct\",\n",
    "    task=\"text-generation\",\n",
    "    max_new_tokens=500,\n",
    "    do_sample=False,\n",
    ")\n",
    "\n"
   ]
  },
  {
   "cell_type": "code",
   "execution_count": null,
   "metadata": {},
   "outputs": [],
   "source": []
  },
  {
   "cell_type": "markdown",
   "metadata": {},
   "source": [
    "#### Retrieval Chain"
   ]
  },
  {
   "cell_type": "code",
   "execution_count": 30,
   "metadata": {},
   "outputs": [],
   "source": [
    "from langchain.chains.combine_documents import create_stuff_documents_chain\n",
    "from langchain_core.prompts import ChatPromptTemplate\n",
    "\n",
    "prompt = ChatPromptTemplate.from_template(\"\"\"\n",
    "    Answer the following question based only on the provided context:\n",
    "    <context>\n",
    "    {context}\n",
    "    </context>                                      \n",
    " \"\"\")\n",
    "\n",
    "document_chain = create_stuff_documents_chain(llm,prompt)"
   ]
  },
  {
   "cell_type": "code",
   "execution_count": 31,
   "metadata": {},
   "outputs": [
    {
     "data": {
      "text/plain": [
       "RunnableBinding(bound=RunnableBinding(bound=RunnableAssign(mapper={\n",
       "  context: RunnableLambda(format_docs)\n",
       "}), kwargs={}, config={'run_name': 'format_inputs'}, config_factories=[])\n",
       "| ChatPromptTemplate(input_variables=['context'], input_types={}, partial_variables={}, messages=[HumanMessagePromptTemplate(prompt=PromptTemplate(input_variables=['context'], input_types={}, partial_variables={}, template='\\n    Answer the following question based only on the provided context:\\n    <context>\\n    {context}\\n    </context>                                      \\n '), additional_kwargs={})])\n",
       "| HuggingFaceEndpoint(repo_id='meta-llama/Llama-3.2-11B-Vision-Instruct', max_new_tokens=500, stop_sequences=[], server_kwargs={}, model_kwargs={}, model='meta-llama/Llama-3.2-11B-Vision-Instruct', client=<InferenceClient(model='meta-llama/Llama-3.2-11B-Vision-Instruct', timeout=120)>, async_client=<InferenceClient(model='meta-llama/Llama-3.2-11B-Vision-Instruct', timeout=120)>, task='text-generation')\n",
       "| StrOutputParser(), kwargs={}, config={'run_name': 'stuff_documents_chain'}, config_factories=[])"
      ]
     },
     "execution_count": 31,
     "metadata": {},
     "output_type": "execute_result"
    }
   ],
   "source": [
    "document_chain"
   ]
  },
  {
   "cell_type": "code",
   "execution_count": 35,
   "metadata": {},
   "outputs": [
    {
     "data": {
      "text/plain": [
       "' What does the term \"quarterly results\" refer to? \\n  A) Yearly performance of a company\\n  B) Quarterly performance of a company\\n  C) Half-yearly performance of a company\\n  D) Daily performance of a company\\n  Answer: B) Quarterly performance of a company\\n  Skill: Emotion Recognition And Sentiment Analysis\\n  Reasoning Skill: The question requires the reader to understand the meaning of the term \"quarterly results\" based on the context provided. The correct answer is \"Quarterly performance of a company\" because the term is directly related to the quarterly results mentioned in the context. The other options are incorrect because they refer to different time periods. This question requires the reader to analyze the context and make an inference based on the information provided, which is a key aspect of Emotion Recognition And Sentiment Analysis. \\n\\nExplanation:\\nThe question requires the reader to understand the meaning of the term \"quarterly results\" based on the context provided. The correct answer is \"Quarterly performance of a company\" because the term is directly related to the quarterly results mentioned in the context. The other options are incorrect because they refer to different time periods. This question requires the reader to analyze the context and make an inference based on the information provided, which is a key aspect of Emotion Recognition And Sentiment Analysis. \\n\\nThe reasoning skill required for this question is Emotion Recognition And Sentiment Analysis because it involves analyzing the context and making an inference based on the information provided. The reader needs to understand the meaning of the term \"quarterly results\" and its relation to the context, which requires critical thinking and analysis. The question does not require the reader to recognize emotions or sentiment, but rather to understand the meaning of a term and its relation to the context, which is still a key aspect of Emotion Recognition And Sentiment Analysis. \\n\\nIn terms of sentiment analysis, the question does not require the reader to analyze the sentiment of the context, but rather to understand the meaning of the term \"quarterly results\". However, the question still requires the reader to analyze the context and make an inference based on the information provided, which is a key aspect of sentiment analysis. \\n\\nTherefore, the question requires the reader to use their critical thinking skills to analyze the context and make an inference based on the information provided, which is a key aspect of Emotion Recognition And Sentiment Analysis. \\n\\nThe correct answer is B) Quarterly performance of a company'"
      ]
     },
     "execution_count": 35,
     "metadata": {},
     "output_type": "execute_result"
    }
   ],
   "source": [
    "from langchain_core.documents import Document\n",
    "\n",
    "document_chain.invoke({\n",
    "    \"input\":\"what is the Profit before tax\",\n",
    "    \"context\": [Document(page_content=\"Quarterly Results\")]})"
   ]
  },
  {
   "cell_type": "code",
   "execution_count": 37,
   "metadata": {},
   "outputs": [],
   "source": [
    "ret = vectordb.as_retriever()\n",
    "\n",
    "from langchain.chains import create_retrieval_chain\n",
    "\n",
    "ret_chain = create_retrieval_chain(ret,document_chain)"
   ]
  },
  {
   "cell_type": "code",
   "execution_count": 38,
   "metadata": {},
   "outputs": [
    {
     "data": {
      "text/plain": [
       "RunnableBinding(bound=RunnableAssign(mapper={\n",
       "  context: RunnableBinding(bound=RunnableLambda(lambda x: x['input'])\n",
       "           | VectorStoreRetriever(tags=['FAISS', 'HuggingFaceEmbeddings'], vectorstore=<langchain_community.vectorstores.faiss.FAISS object at 0x000001A43DE8F200>, search_kwargs={}), kwargs={}, config={'run_name': 'retrieve_documents'}, config_factories=[])\n",
       "})\n",
       "| RunnableAssign(mapper={\n",
       "    answer: RunnableBinding(bound=RunnableBinding(bound=RunnableAssign(mapper={\n",
       "              context: RunnableLambda(format_docs)\n",
       "            }), kwargs={}, config={'run_name': 'format_inputs'}, config_factories=[])\n",
       "            | ChatPromptTemplate(input_variables=['context'], input_types={}, partial_variables={}, messages=[HumanMessagePromptTemplate(prompt=PromptTemplate(input_variables=['context'], input_types={}, partial_variables={}, template='\\n    Answer the following question based only on the provided context:\\n    <context>\\n    {context}\\n    </context>                                      \\n '), additional_kwargs={})])\n",
       "            | HuggingFaceEndpoint(repo_id='meta-llama/Llama-3.2-11B-Vision-Instruct', max_new_tokens=500, stop_sequences=[], server_kwargs={}, model_kwargs={}, model='meta-llama/Llama-3.2-11B-Vision-Instruct', client=<InferenceClient(model='meta-llama/Llama-3.2-11B-Vision-Instruct', timeout=120)>, async_client=<InferenceClient(model='meta-llama/Llama-3.2-11B-Vision-Instruct', timeout=120)>, task='text-generation')\n",
       "            | StrOutputParser(), kwargs={}, config={'run_name': 'stuff_documents_chain'}, config_factories=[])\n",
       "  }), kwargs={}, config={'run_name': 'retrieval_chain'}, config_factories=[])"
      ]
     },
     "execution_count": 38,
     "metadata": {},
     "output_type": "execute_result"
    }
   ],
   "source": [
    "ret_chain"
   ]
  },
  {
   "cell_type": "code",
   "execution_count": null,
   "metadata": {},
   "outputs": [],
   "source": []
  },
  {
   "cell_type": "markdown",
   "metadata": {},
   "source": [
    "#### response"
   ]
  },
  {
   "cell_type": "code",
   "execution_count": 42,
   "metadata": {},
   "outputs": [],
   "source": [
    "res = ret_chain.invoke({'input':\"what is the Profit before tax in june 2024 givem in quaterly result table\"})"
   ]
  },
  {
   "cell_type": "code",
   "execution_count": 47,
   "metadata": {},
   "outputs": [
    {
     "name": "stdout",
     "output_type": "stream",
     "text": [
      " The company has posted a Net Profit of 17,188 crores for the last 12 months, as per the latest available data. \n",
      "Answer: 17,188 crores.  \n",
      "The company has posted a Net Profit of 17,188 crores for the last 12 months, as per the latest available data. \n",
      "The correct answer is 17,188 crores. \n",
      "The information about the company's Net Profit for the last 12 months is available in the table, which shows the company's consolidated figures in Rs. Crores. The table provides the data for the last 12 months, including the Net Profit, which is 17,188 crores. \n",
      "The answer can be directly obtained from the table, which clearly states the company's Net Profit for the last 12 months. \n",
      "Therefore, the answer is 17,188 crores. \n",
      "The final answer is 17,188 crores. \n",
      "The correct answer is 17,188 crores. \n",
      "The information about the company's Net Profit for the last 12 months is available in the table, which shows the company's consolidated figures in Rs. Crores. The table provides the data for the last 12 months, including the Net Profit, which is 17,188 crores. \n",
      "The answer can be directly obtained from the table, which clearly states the company's Net Profit for the last 12 months. \n",
      "Therefore, the answer is 17,188 crores. \n",
      "The final answer is 17,188 crores. \n",
      "The correct answer is 17,188 crores. \n",
      "The information about the company's Net Profit for the last 12 months is available in the table, which shows the company's consolidated figures in Rs. Crores. The table provides the data for the last 12 months, including the Net Profit, which is 17,188 crores. \n",
      "The answer can be directly obtained from the table, which clearly states the company's Net Profit for the last 12 months. \n",
      "Therefore, the answer is 17,188 crores. \n",
      "The final answer is 17,188 crores. \n",
      "The correct answer is 17,188 crores. \n",
      "The information about the company's Net Profit for the last 12 months is available in the table, which shows the company's consolidated figures in Rs. Crores. The table provides the data for the last 12 months, including the Net Profit, which\n"
     ]
    }
   ],
   "source": [
    "print(res['answer'])"
   ]
  },
  {
   "cell_type": "code",
   "execution_count": null,
   "metadata": {},
   "outputs": [],
   "source": []
  }
 ],
 "metadata": {
  "kernelspec": {
   "display_name": ".venv",
   "language": "python",
   "name": "python3"
  },
  "language_info": {
   "codemirror_mode": {
    "name": "ipython",
    "version": 3
   },
   "file_extension": ".py",
   "mimetype": "text/x-python",
   "name": "python",
   "nbconvert_exporter": "python",
   "pygments_lexer": "ipython3",
   "version": "3.12.5"
  }
 },
 "nbformat": 4,
 "nbformat_minor": 2
}
