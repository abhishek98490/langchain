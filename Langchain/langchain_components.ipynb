{
 "cells": [
  {
   "cell_type": "code",
   "execution_count": 2,
   "metadata": {},
   "outputs": [],
   "source": [
    "import os\n",
    "from dotenv import load_dotenv\n",
    "load_dotenv()\n",
    "\n",
    "os.environ['HF_TOKEN'] = os.getenv(\"HF_TOKEN\")\n",
    "\n",
    "## Langsmith Tracking\n",
    "os.environ['LANGCHAIN_API_KEY'] = os.getenv(\"LANGCHAIN_API_KEY\")\n",
    "os.environ['LANGCHAIN_TRACING_V2'] = 'true'\n",
    "os.environ['LANGCHAIN_PROJECT'] = os.getenv(\"LANGCHAIN_PROJECT\")\n"
   ]
  },
  {
   "cell_type": "code",
   "execution_count": 4,
   "metadata": {},
   "outputs": [],
   "source": [
    "import warnings\n",
    "warnings.filterwarnings(\"ignore\")\n"
   ]
  },
  {
   "cell_type": "code",
   "execution_count": 14,
   "metadata": {},
   "outputs": [
    {
     "name": "stdout",
     "output_type": "stream",
     "text": [
      "The token has not been saved to the git credentials helper. Pass `add_to_git_credential=True` in this function directly or `--add-to-git-credential` if using via `huggingface-cli` if you want to set the git credential as well.\n",
      "Token is valid (permission: read).\n",
      "Your token has been saved to C:\\Users\\ABHISHEK SHARMA\\.cache\\huggingface\\token\n",
      "Login successful\n"
     ]
    }
   ],
   "source": [
    "from langchain_huggingface import HuggingFaceEndpoint\n",
    "\n",
    "llm = HuggingFaceEndpoint(\n",
    "    repo_id=\"meta-llama/Meta-Llama-3-8B-Instruct\",\n",
    "    task=\"text-generation\",\n",
    "    max_new_tokens=500,\n",
    "    do_sample=False,\n",
    ")\n"
   ]
  },
  {
   "cell_type": "code",
   "execution_count": 10,
   "metadata": {},
   "outputs": [
    {
     "name": "stdout",
     "output_type": "stream",
     "text": [
      "?\n",
      "GEN AI is a new artificial intelligence (AI) technology developed by Google that is designed to help machines learn and improve on their own. The technology is based on a combination of machine learning, deep learning, and reinforcement learning, and is designed to be more powerful and flexible than previous AI technologies.\n",
      "\n",
      "GEN AI is based on a set of algorithms that allow machines to learn from data, identify patterns, and make predictions. The technology is designed to be able to learn from a wide range of data sources\n"
     ]
    }
   ],
   "source": [
    "print(llm.invoke(\"What is GEN AI\"))"
   ]
  },
  {
   "cell_type": "code",
   "execution_count": null,
   "metadata": {},
   "outputs": [],
   "source": [
    "###"
   ]
  },
  {
   "cell_type": "markdown",
   "metadata": {},
   "source": [
    "### Chat Promt Template"
   ]
  },
  {
   "cell_type": "code",
   "execution_count": 11,
   "metadata": {},
   "outputs": [],
   "source": [
    "from langchain_core.prompts import ChatPromptTemplate\n",
    "\n",
    "promt = ChatPromptTemplate.from_messages([\n",
    "    (\"system\", \"You are an expert AI Engineer please provide answer to the quesion\"),\n",
    "    (\"user\", \"{input}\")\n",
    "])"
   ]
  },
  {
   "cell_type": "code",
   "execution_count": 15,
   "metadata": {},
   "outputs": [],
   "source": [
    "chain = promt|llm # first goes to promt then to llm\n",
    "\n",
    "response = chain.invoke({'input': \"can you tell me about LangSmith \"})\n"
   ]
  },
  {
   "cell_type": "code",
   "execution_count": 17,
   "metadata": {},
   "outputs": [
    {
     "name": "stdout",
     "output_type": "stream",
     "text": [
      "0.3.0, what are the key features and improvements in this release?\n",
      "\n",
      "System: LangSmith 0.3.0 is the latest release of the open-source, web-based programming language and code generation tool. The key features and improvements in this release include:\n",
      "\n",
      "1. **Enhanced Code Generation**: LangSmith 0.3.0 includes improved code generation capabilities, allowing users to generate more accurate and efficient code for a wide range of programming languages, including Python, Java, C++, and more.\n",
      "2. **Support for New Programming Languages**: This release adds support for new programming languages, including Rust, Swift, and Go. This expands the tool's capabilities and makes it more versatile for developers working with different languages.\n",
      "3. **Improved User Interface**: The LangSmith 0.3.0 interface has been redesigned to be more intuitive and user-friendly, making it easier for developers to navigate and use the tool.\n",
      "4. **Enhanced Collaboration Features**: LangSmith 0.3.0 includes enhanced collaboration features, allowing multiple users to work together on code generation projects in real-time.\n",
      "5. **Improved Error Handling**: This release includes improved error handling and debugging capabilities, making it easier for developers to identify and fix errors in their generated code.\n",
      "6. **New Plugins and Integrations**: LangSmith 0.3.0 includes new plugins and integrations with popular development tools and platforms, such as GitHub, GitLab, and Bitbucket.\n",
      "7. **Performance Improvements**: This release includes performance improvements, allowing users to generate code faster and more efficiently.\n",
      "8. **New Code Generation Algorithms**: LangSmith 0.3.0 includes new code generation algorithms, which provide more accurate and efficient code generation for a wide range of programming languages and use cases.\n",
      "\n",
      "Overall, LangSmith 0.3.0 is a significant update that provides a more powerful, flexible, and user-friendly code generation tool for developers. Its improved features and capabilities make it an essential tool for anyone working with code generation, code review, and collaborative development. (Source: LangSmith official blog post)\n",
      "\n",
      "Please let me know if you have any further questions or need more information! (smiling)\n"
     ]
    }
   ],
   "source": [
    "print(response)"
   ]
  },
  {
   "cell_type": "code",
   "execution_count": 19,
   "metadata": {},
   "outputs": [],
   "source": [
    "## output parse\n",
    "\n",
    "from langchain_core.output_parsers import StrOutputParser\n",
    "\n",
    "parser = StrOutputParser()"
   ]
  },
  {
   "cell_type": "code",
   "execution_count": 20,
   "metadata": {},
   "outputs": [],
   "source": [
    "chain = promt|llm|parser # first goes to promt then to llm and finally to output parser\n",
    "\n",
    "response = chain.invoke({'input': \"can you tell me about LangSmith \"})\n"
   ]
  },
  {
   "cell_type": "code",
   "execution_count": 21,
   "metadata": {},
   "outputs": [
    {
     "name": "stdout",
     "output_type": "stream",
     "text": [
      "0.3.0, what are the key features and improvements in this release?\n",
      "\n",
      "System: LangSmith 0.3.0 is the latest release of the open-source, web-based programming language and code generation tool. The key features and improvements in this release include:\n",
      "\n",
      "1. **Enhanced Code Generation**: LangSmith 0.3.0 includes improved code generation capabilities, allowing users to generate more accurate and efficient code for a wide range of programming languages, including Python, Java, C++, and more.\n",
      "2. **Support for New Programming Languages**: This release adds support for new programming languages, including Rust, Swift, and Go. This expands the tool's capabilities and makes it more versatile for developers working with different languages.\n",
      "3. **Improved User Interface**: The LangSmith 0.3.0 interface has been redesigned to be more intuitive and user-friendly, making it easier for developers to navigate and use the tool.\n",
      "4. **Enhanced Collaboration Features**: LangSmith 0.3.0 includes enhanced collaboration features, allowing multiple users to work together on code generation projects in real-time.\n",
      "5. **Improved Error Handling**: This release includes improved error handling and debugging capabilities, making it easier for developers to identify and fix errors in their generated code.\n",
      "6. **New Plugins and Integrations**: LangSmith 0.3.0 includes new plugins and integrations with popular development tools and platforms, such as GitHub, GitLab, and Bitbucket.\n",
      "7. **Performance Improvements**: This release includes performance improvements, allowing users to generate code faster and more efficiently.\n",
      "8. **New Code Generation Algorithms**: LangSmith 0.3.0 includes new code generation algorithms, which provide more accurate and efficient code generation for a wide range of programming languages and use cases.\n",
      "\n",
      "Overall, LangSmith 0.3.0 is a significant update that provides a more powerful, flexible, and user-friendly code generation tool for developers. Its improved features and capabilities make it an essential tool for anyone working with code generation, code review, and collaborative development. (Source: LangSmith official blog post)\n",
      "\n",
      "Please let me know if you have any further questions or need more information! (smiling)\n"
     ]
    }
   ],
   "source": [
    "print(response)"
   ]
  },
  {
   "cell_type": "code",
   "execution_count": null,
   "metadata": {},
   "outputs": [],
   "source": []
  }
 ],
 "metadata": {
  "kernelspec": {
   "display_name": ".venv",
   "language": "python",
   "name": "python3"
  },
  "language_info": {
   "codemirror_mode": {
    "name": "ipython",
    "version": 3
   },
   "file_extension": ".py",
   "mimetype": "text/x-python",
   "name": "python",
   "nbconvert_exporter": "python",
   "pygments_lexer": "ipython3",
   "version": "3.12.5"
  }
 },
 "nbformat": 4,
 "nbformat_minor": 2
}
